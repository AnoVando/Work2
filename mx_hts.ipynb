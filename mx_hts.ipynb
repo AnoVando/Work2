{
  "nbformat": 4,
  "nbformat_minor": 0,
  "metadata": {
    "colab": {
      "name": "Colab's New Code Editor",
      "provenance": [],
      "collapsed_sections": [],
      "include_colab_link": true
    },
    "kernelspec": {
      "display_name": "Python 3",
      "name": "python3"
    }
  },
  "cells": [
    {
      "cell_type": "markdown",
      "metadata": {
        "id": "view-in-github",
        "colab_type": "text"
      },
      "source": [
        "<a href=\"https://colab.research.google.com/github/AnoVando/Work2/blob/master/mx_hts.ipynb\" target=\"_parent\"><img src=\"https://colab.research.google.com/assets/colab-badge.svg\" alt=\"Open In Colab\"/></a>"
      ]
    },
    {
      "cell_type": "markdown",
      "metadata": {
        "colab_type": "text",
        "id": "qTXOGdaz4wy0"
      },
      "source": [
        "# Richer syntax highlighting\n",
        "\n",
        "Improved support for nested languages:\n",
        "\n",
        "```notebook-python\n",
        "df = pd.io.gbq.read_gbq('''\n",
        "  SELECT \n",
        "    REGEXP_EXTRACT(name, '[a-zA-Z]+'),\n",
        "    SUM(number) as count\n",
        "  FROM `bigquery-public-data.usa_names.usa_1910_2013`\n",
        "  WHERE state = 'TX'\n",
        "  GROUP BY name\n",
        "  ORDER BY count DESC\n",
        "  LIMIT 100\n",
        "''')\n",
        "```"
      ]
    },
    {
      "cell_type": "code",
      "metadata": {
        "id": "yYxM3c1lw604",
        "colab_type": "code",
        "colab": {}
      },
      "source": [
        "import pandas as pd\n",
        "import numpy as np\n",
        "import glob\n",
        "import os"
      ],
      "execution_count": 0,
      "outputs": []
    },
    {
      "cell_type": "code",
      "metadata": {
        "id": "XjgSnL8CPf_-",
        "colab_type": "code",
        "colab": {}
      },
      "source": [
        "materials = pd.read_excel(\"https://raw.githubusercontent.com/AnoVando/Work2/master/IT2-Materials.xlsx\")\n",
        "materials.columns = ['Product_ID']"
      ],
      "execution_count": 0,
      "outputs": []
    },
    {
      "cell_type": "code",
      "metadata": {
        "id": "K9NHYTdPxLuZ",
        "colab_type": "code",
        "colab": {}
      },
      "source": [
        "mx_hts = pd.read_excel(\"https://raw.githubusercontent.com/AnoVando/Work2/master/MX_HTS.xlsx\")\n",
        "mx_hts.columns = ['Legal Regulation','Type','Product_ID','HTS_Code','RUN LOG']\n",
        "mx_hts.drop(columns='RUN LOG', inplace=True)"
      ],
      "execution_count": 0,
      "outputs": []
    },
    {
      "cell_type": "code",
      "metadata": {
        "id": "MIPFJkRF4kCn",
        "colab_type": "code",
        "outputId": "fa94a17d-e67e-4e86-b8d0-e0cb875da467",
        "colab": {
          "base_uri": "https://localhost:8080/",
          "height": 204
        }
      },
      "source": [
        "mx_hts.head()"
      ],
      "execution_count": 41,
      "outputs": [
        {
          "output_type": "execute_result",
          "data": {
            "text/html": [
              "<div>\n",
              "<style scoped>\n",
              "    .dataframe tbody tr th:only-of-type {\n",
              "        vertical-align: middle;\n",
              "    }\n",
              "\n",
              "    .dataframe tbody tr th {\n",
              "        vertical-align: top;\n",
              "    }\n",
              "\n",
              "    .dataframe thead th {\n",
              "        text-align: right;\n",
              "    }\n",
              "</style>\n",
              "<table border=\"1\" class=\"dataframe\">\n",
              "  <thead>\n",
              "    <tr style=\"text-align: right;\">\n",
              "      <th></th>\n",
              "      <th>Legal Regulation</th>\n",
              "      <th>Type</th>\n",
              "      <th>Product_ID</th>\n",
              "      <th>HTS_Code</th>\n",
              "    </tr>\n",
              "  </thead>\n",
              "  <tbody>\n",
              "    <tr>\n",
              "      <th>0</th>\n",
              "      <td>ACE</td>\n",
              "      <td>101</td>\n",
              "      <td>FWALH024XL00</td>\n",
              "      <td>9801002000</td>\n",
              "    </tr>\n",
              "    <tr>\n",
              "      <th>1</th>\n",
              "      <td>CUSCA</td>\n",
              "      <td>101</td>\n",
              "      <td>FWALH024XL00</td>\n",
              "      <td>9802000000</td>\n",
              "    </tr>\n",
              "    <tr>\n",
              "      <th>2</th>\n",
              "      <td>CUSPA</td>\n",
              "      <td>101</td>\n",
              "      <td>FWALH024XL00</td>\n",
              "      <td>9603100000</td>\n",
              "    </tr>\n",
              "    <tr>\n",
              "      <th>3</th>\n",
              "      <td>CUSMX</td>\n",
              "      <td>101</td>\n",
              "      <td>FWALH024XL00</td>\n",
              "      <td>37011001</td>\n",
              "    </tr>\n",
              "    <tr>\n",
              "      <th>4</th>\n",
              "      <td>ACE</td>\n",
              "      <td>107</td>\n",
              "      <td>FWALH024XL00</td>\n",
              "      <td>99031702</td>\n",
              "    </tr>\n",
              "  </tbody>\n",
              "</table>\n",
              "</div>"
            ],
            "text/plain": [
              "  Legal Regulation  Type    Product_ID    HTS_Code\n",
              "0              ACE   101  FWALH024XL00  9801002000\n",
              "1            CUSCA   101  FWALH024XL00  9802000000\n",
              "2            CUSPA   101  FWALH024XL00  9603100000\n",
              "3            CUSMX   101  FWALH024XL00    37011001\n",
              "4              ACE   107  FWALH024XL00    99031702"
            ]
          },
          "metadata": {
            "tags": []
          },
          "execution_count": 41
        }
      ]
    },
    {
      "cell_type": "code",
      "metadata": {
        "id": "TLszkPeA15Xh",
        "colab_type": "code",
        "outputId": "ba3fc507-30d0-4835-b4f4-54f42877ebfa",
        "colab": {
          "base_uri": "https://localhost:8080/",
          "height": 204
        }
      },
      "source": [
        "results = mx_hts.merge(materials, on = 'Product_ID')\n",
        "results.head()"
      ],
      "execution_count": 42,
      "outputs": [
        {
          "output_type": "execute_result",
          "data": {
            "text/html": [
              "<div>\n",
              "<style scoped>\n",
              "    .dataframe tbody tr th:only-of-type {\n",
              "        vertical-align: middle;\n",
              "    }\n",
              "\n",
              "    .dataframe tbody tr th {\n",
              "        vertical-align: top;\n",
              "    }\n",
              "\n",
              "    .dataframe thead th {\n",
              "        text-align: right;\n",
              "    }\n",
              "</style>\n",
              "<table border=\"1\" class=\"dataframe\">\n",
              "  <thead>\n",
              "    <tr style=\"text-align: right;\">\n",
              "      <th></th>\n",
              "      <th>Legal Regulation</th>\n",
              "      <th>Type</th>\n",
              "      <th>Product_ID</th>\n",
              "      <th>HTS_Code</th>\n",
              "    </tr>\n",
              "  </thead>\n",
              "  <tbody>\n",
              "    <tr>\n",
              "      <th>0</th>\n",
              "      <td>CUSMX</td>\n",
              "      <td>101</td>\n",
              "      <td>000-59566-0000</td>\n",
              "      <td>87084007</td>\n",
              "    </tr>\n",
              "    <tr>\n",
              "      <th>1</th>\n",
              "      <td>CUSMX</td>\n",
              "      <td>101</td>\n",
              "      <td>000001-05</td>\n",
              "      <td>85122099</td>\n",
              "    </tr>\n",
              "    <tr>\n",
              "      <th>2</th>\n",
              "      <td>CUSMX</td>\n",
              "      <td>101</td>\n",
              "      <td>00081923-000400</td>\n",
              "      <td>90268099</td>\n",
              "    </tr>\n",
              "    <tr>\n",
              "      <th>3</th>\n",
              "      <td>CUSMX</td>\n",
              "      <td>101</td>\n",
              "      <td>001269</td>\n",
              "      <td>84099907</td>\n",
              "    </tr>\n",
              "    <tr>\n",
              "      <th>4</th>\n",
              "      <td>CUSMX</td>\n",
              "      <td>101</td>\n",
              "      <td>001801ALU</td>\n",
              "      <td>87087006</td>\n",
              "    </tr>\n",
              "  </tbody>\n",
              "</table>\n",
              "</div>"
            ],
            "text/plain": [
              "  Legal Regulation  Type       Product_ID  HTS_Code\n",
              "0            CUSMX   101   000-59566-0000  87084007\n",
              "1            CUSMX   101        000001-05  85122099\n",
              "2            CUSMX   101  00081923-000400  90268099\n",
              "3            CUSMX   101           001269  84099907\n",
              "4            CUSMX   101        001801ALU  87087006"
            ]
          },
          "metadata": {
            "tags": []
          },
          "execution_count": 42
        }
      ]
    },
    {
      "cell_type": "code",
      "metadata": {
        "id": "XrlZhVeb6swT",
        "colab_type": "code",
        "outputId": "dbb3a903-c954-44f3-ea12-160f1f58e6ad",
        "colab": {
          "base_uri": "https://localhost:8080/",
          "height": 102
        }
      },
      "source": [
        "results[\"Product_ID\"].describe()"
      ],
      "execution_count": 43,
      "outputs": [
        {
          "output_type": "execute_result",
          "data": {
            "text/plain": [
              "count        57346\n",
              "unique       56966\n",
              "top       25007600\n",
              "freq             3\n",
              "Name: Product_ID, dtype: object"
            ]
          },
          "metadata": {
            "tags": []
          },
          "execution_count": 43
        }
      ]
    },
    {
      "cell_type": "code",
      "metadata": {
        "id": "KGRAmS1V7Geu",
        "colab_type": "code",
        "colab": {}
      },
      "source": [
        "from google.colab import files\n",
        "\n",
        "results.to_excel('mx_hts.xlsx')"
      ],
      "execution_count": 0,
      "outputs": []
    },
    {
      "cell_type": "code",
      "metadata": {
        "id": "vdWo0qWB9Gt_",
        "colab_type": "code",
        "colab": {}
      },
      "source": [
        ""
      ],
      "execution_count": 0,
      "outputs": []
    }
  ]
}