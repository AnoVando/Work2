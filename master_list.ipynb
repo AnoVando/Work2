{
  "nbformat": 4,
  "nbformat_minor": 0,
  "metadata": {
    "colab": {
      "name": "Colab's New Code Editor",
      "provenance": [],
      "collapsed_sections": [],
      "include_colab_link": true
    },
    "kernelspec": {
      "display_name": "Python 3",
      "name": "python3"
    }
  },
  "cells": [
    {
      "cell_type": "markdown",
      "metadata": {
        "id": "view-in-github",
        "colab_type": "text"
      },
      "source": [
        "<a href=\"https://colab.research.google.com/github/AnoVando/Work2/blob/master/master_list.ipynb\" target=\"_parent\"><img src=\"https://colab.research.google.com/assets/colab-badge.svg\" alt=\"Open In Colab\"/></a>"
      ]
    },
    {
      "cell_type": "markdown",
      "metadata": {
        "colab_type": "text",
        "id": "qTXOGdaz4wy0"
      },
      "source": [
        "# Richer syntax highlighting\n",
        "\n",
        "Improved support for nested languages:\n",
        "\n",
        "```notebook-python\n",
        "df = pd.io.gbq.read_gbq('''\n",
        "  SELECT \n",
        "    REGEXP_EXTRACT(name, '[a-zA-Z]+'),\n",
        "    SUM(number) as count\n",
        "  FROM `bigquery-public-data.usa_names.usa_1910_2013`\n",
        "  WHERE state = 'TX'\n",
        "  GROUP BY name\n",
        "  ORDER BY count DESC\n",
        "  LIMIT 100\n",
        "''')\n",
        "```"
      ]
    },
    {
      "cell_type": "code",
      "metadata": {
        "id": "yYxM3c1lw604",
        "colab_type": "code",
        "colab": {}
      },
      "source": [
        "import pandas as pd\n",
        "import numpy as np\n",
        "import glob\n",
        "import os"
      ],
      "execution_count": 0,
      "outputs": []
    },
    {
      "cell_type": "code",
      "metadata": {
        "id": "K9NHYTdPxLuZ",
        "colab_type": "code",
        "colab": {}
      },
      "source": [
        "as400 = pd.read_csv(\"https://raw.githubusercontent.com/AnoVando/Work2/master/as400.csv\")\n",
        "as400_2 = pd.read_csv(\"https://raw.githubusercontent.com/AnoVando/Work2/master/as400_2.csv\")\n",
        "cef = pd.read_csv(\"https://raw.githubusercontent.com/AnoVando/Work2/master/cef.csv\")\n",
        "copics = pd.read_csv(\"https://raw.githubusercontent.com/AnoVando/Work2/master/copics.csv\")\n",
        "dyna = pd.read_csv(\"https://raw.githubusercontent.com/AnoVando/Work2/master/dyna.csv\")\n",
        "kwaust = pd.read_csv(\"https://raw.githubusercontent.com/AnoVando/Work2/master/kwaust.csv\")\n",
        "winch = pd.read_csv(\"https://raw.githubusercontent.com/AnoVando/Work2/master/winch.csv\")"
      ],
      "execution_count": 0,
      "outputs": []
    },
    {
      "cell_type": "code",
      "metadata": {
        "id": "MIPFJkRF4kCn",
        "colab_type": "code",
        "colab": {}
      },
      "source": [
        "as400.columns = ['Source', 'Product_ID', 'Description']\n",
        "as400_2.columns = ['Source', 'Product_ID', 'Description']\n",
        "cef.columns = ['Source', 'Product_ID', 'Description']\n",
        "copics.columns = ['Source', 'Product_ID']\n",
        "dyna.columns = ['Source', 'Product_ID', 'Description']\n",
        "kwaust.columns = ['Source', 'Product_ID', 'Description']\n",
        "winch.columns = ['Source', 'Product_ID', 'Description']"
      ],
      "execution_count": 0,
      "outputs": []
    },
    {
      "cell_type": "code",
      "metadata": {
        "id": "LB0zqVgA0l0W",
        "colab_type": "code",
        "colab": {}
      },
      "source": [
        "master_list = pd.concat([as400, as400_2, cef, copics, dyna, kwaust, winch], ignore_index=True, sort=False)\n",
        "master_list.drop(columns='Description', inplace=True)\n",
        "master_list.drop_duplicates(subset=['Source','Product_ID'], inplace=True)\n"
      ],
      "execution_count": 0,
      "outputs": []
    },
    {
      "cell_type": "code",
      "metadata": {
        "id": "TOqvTXkdfJa-",
        "colab_type": "code",
        "colab": {
          "base_uri": "https://localhost:8080/",
          "height": 153
        },
        "outputId": "a241039b-6042-4bdf-fafa-4472d309a48a"
      },
      "source": [
        "master_list.groupby([\"Source\"])[\"Product_ID\"].count()"
      ],
      "execution_count": 25,
      "outputs": [
        {
          "output_type": "execute_result",
          "data": {
            "text/plain": [
              "Source\n",
              "AS400     823638\n",
              "copics    209899\n",
              "dyna        9508\n",
              "kwaust     16995\n",
              "pec         1032\n",
              "winch       5301\n",
              "Name: Product_ID, dtype: int64"
            ]
          },
          "metadata": {
            "tags": []
          },
          "execution_count": 25
        }
      ]
    },
    {
      "cell_type": "code",
      "metadata": {
        "id": "_IvScnwChymN",
        "colab_type": "code",
        "colab": {}
      },
      "source": [
        ""
      ],
      "execution_count": 0,
      "outputs": []
    },
    {
      "cell_type": "code",
      "metadata": {
        "id": "yZxKgG-yz9PV",
        "colab_type": "code",
        "colab": {}
      },
      "source": [
        "copics_contracts = pd.read_csv(\"https://raw.githubusercontent.com/AnoVando/Work2/master/contracts.csv\", sep=',')\n",
        "copics_contracts.columns = ['Supplier','Product_ID','Base_Price']\n",
        "kwaust_contracts = pd.read_csv(\"https://raw.githubusercontent.com/AnoVando/Work2/master/kwaust_contracts.csv\", sep=',')\n",
        "#kwaust_contracts.columns = ['Supplier','Product_ID','Base_Price']"
      ],
      "execution_count": 0,
      "outputs": []
    },
    {
      "cell_type": "code",
      "metadata": {
        "id": "e6sVGzRq002o",
        "colab_type": "code",
        "outputId": "652549d4-5166-443e-9bf6-5572808dd5ea",
        "colab": {
          "base_uri": "https://localhost:8080/",
          "height": 204
        }
      },
      "source": [
        "kwaust_contracts.head()"
      ],
      "execution_count": 29,
      "outputs": [
        {
          "output_type": "execute_result",
          "data": {
            "text/html": [
              "<div>\n",
              "<style scoped>\n",
              "    .dataframe tbody tr th:only-of-type {\n",
              "        vertical-align: middle;\n",
              "    }\n",
              "\n",
              "    .dataframe tbody tr th {\n",
              "        vertical-align: top;\n",
              "    }\n",
              "\n",
              "    .dataframe thead th {\n",
              "        text-align: right;\n",
              "    }\n",
              "</style>\n",
              "<table border=\"1\" class=\"dataframe\">\n",
              "  <thead>\n",
              "    <tr style=\"text-align: right;\">\n",
              "      <th></th>\n",
              "      <th>QF$DOC</th>\n",
              "      <th>QFLITM</th>\n",
              "      <th>QF$LIN</th>\n",
              "      <th>QF$RQJ</th>\n",
              "      <th>QFNXTR</th>\n",
              "      <th>QFDSC1</th>\n",
              "      <th>Supplier</th>\n",
              "      <th>Product_ID</th>\n",
              "      <th>Base_Price</th>\n",
              "    </tr>\n",
              "  </thead>\n",
              "  <tbody>\n",
              "    <tr>\n",
              "      <th>0</th>\n",
              "      <td>167354</td>\n",
              "      <td>R25-1284-601221211</td>\n",
              "      <td>1000</td>\n",
              "      <td>20191011</td>\n",
              "      <td>230</td>\n",
              "      <td>DOOR-DAYLITE II ASSEMBLY L/H</td>\n",
              "      <td>601155</td>\n",
              "      <td>7832889</td>\n",
              "      <td>0</td>\n",
              "    </tr>\n",
              "    <tr>\n",
              "      <th>1</th>\n",
              "      <td>167461</td>\n",
              "      <td>R25-1284-601221211</td>\n",
              "      <td>1000</td>\n",
              "      <td>20191216</td>\n",
              "      <td>225</td>\n",
              "      <td>DOOR-DAYLITE II ASSEMBLY L/H</td>\n",
              "      <td>601155</td>\n",
              "      <td>7817832</td>\n",
              "      <td>0</td>\n",
              "    </tr>\n",
              "    <tr>\n",
              "      <th>2</th>\n",
              "      <td>171667</td>\n",
              "      <td>AU1540422</td>\n",
              "      <td>1000</td>\n",
              "      <td>20190906</td>\n",
              "      <td>230</td>\n",
              "      <td>PUMP ASSY-AIR ASSIST CAB TILT</td>\n",
              "      <td>6006116</td>\n",
              "      <td>2116144</td>\n",
              "      <td>0</td>\n",
              "    </tr>\n",
              "    <tr>\n",
              "      <th>3</th>\n",
              "      <td>757487</td>\n",
              "      <td>456267A2X1</td>\n",
              "      <td>2000</td>\n",
              "      <td>20190521</td>\n",
              "      <td>400</td>\n",
              "      <td>KIT-BEARING SERVICE</td>\n",
              "      <td>1111159</td>\n",
              "      <td>733397</td>\n",
              "      <td>0</td>\n",
              "    </tr>\n",
              "    <tr>\n",
              "      <th>4</th>\n",
              "      <td>758167</td>\n",
              "      <td>C81-1005</td>\n",
              "      <td>1000</td>\n",
              "      <td>20190627</td>\n",
              "      <td>400</td>\n",
              "      <td>AIR SPRING AG460 10.5\"</td>\n",
              "      <td>6000722</td>\n",
              "      <td>526783</td>\n",
              "      <td>0</td>\n",
              "    </tr>\n",
              "  </tbody>\n",
              "</table>\n",
              "</div>"
            ],
            "text/plain": [
              "   QF$DOC              QFLITM  QF$LIN  ...  Supplier  Product_ID Base_Price\n",
              "0  167354  R25-1284-601221211    1000  ...    601155     7832889          0\n",
              "1  167461  R25-1284-601221211    1000  ...    601155     7817832          0\n",
              "2  171667           AU1540422    1000  ...   6006116     2116144          0\n",
              "3  757487          456267A2X1    2000  ...   1111159      733397          0\n",
              "4  758167            C81-1005    1000  ...   6000722      526783          0\n",
              "\n",
              "[5 rows x 9 columns]"
            ]
          },
          "metadata": {
            "tags": []
          },
          "execution_count": 29
        }
      ]
    },
    {
      "cell_type": "code",
      "metadata": {
        "id": "SIxUgHbllSQ4",
        "colab_type": "code",
        "colab": {
          "base_uri": "https://localhost:8080/",
          "height": 297
        },
        "outputId": "6e6c33bf-7fc1-454a-a3f6-d5fea3653740"
      },
      "source": [
        "contracts.describe()"
      ],
      "execution_count": 16,
      "outputs": [
        {
          "output_type": "execute_result",
          "data": {
            "text/html": [
              "<div>\n",
              "<style scoped>\n",
              "    .dataframe tbody tr th:only-of-type {\n",
              "        vertical-align: middle;\n",
              "    }\n",
              "\n",
              "    .dataframe tbody tr th {\n",
              "        vertical-align: top;\n",
              "    }\n",
              "\n",
              "    .dataframe thead th {\n",
              "        text-align: right;\n",
              "    }\n",
              "</style>\n",
              "<table border=\"1\" class=\"dataframe\">\n",
              "  <thead>\n",
              "    <tr style=\"text-align: right;\">\n",
              "      <th></th>\n",
              "      <th>Base_Price</th>\n",
              "    </tr>\n",
              "  </thead>\n",
              "  <tbody>\n",
              "    <tr>\n",
              "      <th>count</th>\n",
              "      <td>419940.000000</td>\n",
              "    </tr>\n",
              "    <tr>\n",
              "      <th>mean</th>\n",
              "      <td>1386.726368</td>\n",
              "    </tr>\n",
              "    <tr>\n",
              "      <th>std</th>\n",
              "      <td>3828.255818</td>\n",
              "    </tr>\n",
              "    <tr>\n",
              "      <th>min</th>\n",
              "      <td>0.000000</td>\n",
              "    </tr>\n",
              "    <tr>\n",
              "      <th>25%</th>\n",
              "      <td>19.700000</td>\n",
              "    </tr>\n",
              "    <tr>\n",
              "      <th>50%</th>\n",
              "      <td>214.200000</td>\n",
              "    </tr>\n",
              "    <tr>\n",
              "      <th>75%</th>\n",
              "      <td>627.900000</td>\n",
              "    </tr>\n",
              "    <tr>\n",
              "      <th>max</th>\n",
              "      <td>107862.120000</td>\n",
              "    </tr>\n",
              "  </tbody>\n",
              "</table>\n",
              "</div>"
            ],
            "text/plain": [
              "          Base_Price\n",
              "count  419940.000000\n",
              "mean     1386.726368\n",
              "std      3828.255818\n",
              "min         0.000000\n",
              "25%        19.700000\n",
              "50%       214.200000\n",
              "75%       627.900000\n",
              "max    107862.120000"
            ]
          },
          "metadata": {
            "tags": []
          },
          "execution_count": 16
        }
      ]
    },
    {
      "cell_type": "code",
      "metadata": {
        "id": "TLszkPeA15Xh",
        "colab_type": "code",
        "outputId": "b36a91ab-e3f4-4975-fed0-673832d67ac6",
        "colab": {
          "base_uri": "https://localhost:8080/",
          "height": 204
        }
      },
      "source": [
        "results = master_list.merge(contracts, on = 'Product_ID')\n",
        "results.head()"
      ],
      "execution_count": 19,
      "outputs": [
        {
          "output_type": "execute_result",
          "data": {
            "text/html": [
              "<div>\n",
              "<style scoped>\n",
              "    .dataframe tbody tr th:only-of-type {\n",
              "        vertical-align: middle;\n",
              "    }\n",
              "\n",
              "    .dataframe tbody tr th {\n",
              "        vertical-align: top;\n",
              "    }\n",
              "\n",
              "    .dataframe thead th {\n",
              "        text-align: right;\n",
              "    }\n",
              "</style>\n",
              "<table border=\"1\" class=\"dataframe\">\n",
              "  <thead>\n",
              "    <tr style=\"text-align: right;\">\n",
              "      <th></th>\n",
              "      <th>Source</th>\n",
              "      <th>Product_ID</th>\n",
              "      <th>Description</th>\n",
              "      <th>Supplier</th>\n",
              "      <th>Base_Price</th>\n",
              "    </tr>\n",
              "  </thead>\n",
              "  <tbody>\n",
              "    <tr>\n",
              "      <th>0</th>\n",
              "      <td>AS400</td>\n",
              "      <td>K028-2344</td>\n",
              "      <td>ANCHOR-MOULDING</td>\n",
              "      <td>15149AB</td>\n",
              "      <td>0.4</td>\n",
              "    </tr>\n",
              "    <tr>\n",
              "      <th>1</th>\n",
              "      <td>AS400</td>\n",
              "      <td>K028-2344</td>\n",
              "      <td>ANCHOR-MOULDING</td>\n",
              "      <td>15149AB</td>\n",
              "      <td>0.4</td>\n",
              "    </tr>\n",
              "    <tr>\n",
              "      <th>2</th>\n",
              "      <td>AS400</td>\n",
              "      <td>K028-2344</td>\n",
              "      <td>ANCHOR-MOULDING</td>\n",
              "      <td>15149AB</td>\n",
              "      <td>0.4</td>\n",
              "    </tr>\n",
              "    <tr>\n",
              "      <th>3</th>\n",
              "      <td>AS400</td>\n",
              "      <td>K028-2344</td>\n",
              "      <td>ANCHOR-MOULDING</td>\n",
              "      <td>15149AB</td>\n",
              "      <td>0.4</td>\n",
              "    </tr>\n",
              "    <tr>\n",
              "      <th>4</th>\n",
              "      <td>AS400</td>\n",
              "      <td>K028-2344</td>\n",
              "      <td>ANCHOR-MOULDING</td>\n",
              "      <td>15149AB</td>\n",
              "      <td>0.4</td>\n",
              "    </tr>\n",
              "  </tbody>\n",
              "</table>\n",
              "</div>"
            ],
            "text/plain": [
              "  Source Product_ID      Description Supplier  Base_Price\n",
              "0  AS400  K028-2344  ANCHOR-MOULDING  15149AB         0.4\n",
              "1  AS400  K028-2344  ANCHOR-MOULDING  15149AB         0.4\n",
              "2  AS400  K028-2344  ANCHOR-MOULDING  15149AB         0.4\n",
              "3  AS400  K028-2344  ANCHOR-MOULDING  15149AB         0.4\n",
              "4  AS400  K028-2344  ANCHOR-MOULDING  15149AB         0.4"
            ]
          },
          "metadata": {
            "tags": []
          },
          "execution_count": 19
        }
      ]
    },
    {
      "cell_type": "code",
      "metadata": {
        "id": "XGkLefUC7wvk",
        "colab_type": "code",
        "colab": {}
      },
      "source": [
        "results.drop_duplicates(subset=['Supplier', 'Product_ID'], keep='last', inplace=True)"
      ],
      "execution_count": 0,
      "outputs": []
    },
    {
      "cell_type": "code",
      "metadata": {
        "id": "XrlZhVeb6swT",
        "colab_type": "code",
        "outputId": "f42a57d8-6342-4b20-b282-d5ca2dfdebb9",
        "colab": {
          "base_uri": "https://localhost:8080/",
          "height": 102
        }
      },
      "source": [
        "results[\"Product_ID\"].describe()"
      ],
      "execution_count": 18,
      "outputs": [
        {
          "output_type": "execute_result",
          "data": {
            "text/plain": [
              "count       436675\n",
              "unique      151623\n",
              "top       PH30RP41\n",
              "freq           120\n",
              "Name: Product_ID, dtype: object"
            ]
          },
          "metadata": {
            "tags": []
          },
          "execution_count": 18
        }
      ]
    },
    {
      "cell_type": "code",
      "metadata": {
        "id": "KGRAmS1V7Geu",
        "colab_type": "code",
        "colab": {}
      },
      "source": [
        "from google.colab import files\n",
        "\n",
        "results.to_excel('materials_without_contract.xlsx')"
      ],
      "execution_count": 0,
      "outputs": []
    },
    {
      "cell_type": "code",
      "metadata": {
        "id": "vdWo0qWB9Gt_",
        "colab_type": "code",
        "colab": {}
      },
      "source": [
        ""
      ],
      "execution_count": 0,
      "outputs": []
    }
  ]
}