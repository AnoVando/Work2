{
  "nbformat": 4,
  "nbformat_minor": 0,
  "metadata": {
    "colab": {
      "name": "Colab's New Code Editor",
      "provenance": [],
      "collapsed_sections": [],
      "include_colab_link": true
    },
    "kernelspec": {
      "display_name": "Python 3",
      "name": "python3"
    }
  },
  "cells": [
    {
      "cell_type": "markdown",
      "metadata": {
        "id": "view-in-github",
        "colab_type": "text"
      },
      "source": [
        "<a href=\"https://colab.research.google.com/github/AnoVando/Work2/blob/master/ca_hts.ipynb\" target=\"_parent\"><img src=\"https://colab.research.google.com/assets/colab-badge.svg\" alt=\"Open In Colab\"/></a>"
      ]
    },
    {
      "cell_type": "markdown",
      "metadata": {
        "colab_type": "text",
        "id": "qTXOGdaz4wy0"
      },
      "source": [
        "# Richer syntax highlighting\n",
        "\n",
        "Improved support for nested languages:\n",
        "\n",
        "```notebook-python\n",
        "df = pd.io.gbq.read_gbq('''\n",
        "  SELECT \n",
        "    REGEXP_EXTRACT(name, '[a-zA-Z]+'),\n",
        "    SUM(number) as count\n",
        "  FROM `bigquery-public-data.usa_names.usa_1910_2013`\n",
        "  WHERE state = 'TX'\n",
        "  GROUP BY name\n",
        "  ORDER BY count DESC\n",
        "  LIMIT 100\n",
        "''')\n",
        "```"
      ]
    },
    {
      "cell_type": "code",
      "metadata": {
        "id": "yYxM3c1lw604",
        "colab_type": "code",
        "colab": {}
      },
      "source": [
        "import pandas as pd\n",
        "import numpy as np\n",
        "import glob\n",
        "import os"
      ],
      "execution_count": 0,
      "outputs": []
    },
    {
      "cell_type": "code",
      "metadata": {
        "id": "XjgSnL8CPf_-",
        "colab_type": "code",
        "colab": {}
      },
      "source": [
        "materials = pd.read_excel(\"https://raw.githubusercontent.com/AnoVando/Work2/master/IT2-Materials.xlsx\")\n",
        "materials.columns = ['Product_ID']"
      ],
      "execution_count": 0,
      "outputs": []
    },
    {
      "cell_type": "code",
      "metadata": {
        "id": "K9NHYTdPxLuZ",
        "colab_type": "code",
        "colab": {}
      },
      "source": [
        "ca_hts = pd.read_excel(\"https://raw.githubusercontent.com/AnoVando/Work2/master/CA_HTS.xlsx\")\n",
        "ca_hts.columns = ['Legal Regulation','Type','Product_ID','HTS_Code','RUN LOG']\n",
        "ca_hts.drop(columns='RUN LOG', inplace=True)"
      ],
      "execution_count": 0,
      "outputs": []
    },
    {
      "cell_type": "code",
      "metadata": {
        "id": "MIPFJkRF4kCn",
        "colab_type": "code",
        "outputId": "0eaf2098-ed03-4e27-ccdb-f74e368fe840",
        "colab": {
          "base_uri": "https://localhost:8080/",
          "height": 204
        }
      },
      "source": [
        "ca_hts.head()"
      ],
      "execution_count": 34,
      "outputs": [
        {
          "output_type": "execute_result",
          "data": {
            "text/html": [
              "<div>\n",
              "<style scoped>\n",
              "    .dataframe tbody tr th:only-of-type {\n",
              "        vertical-align: middle;\n",
              "    }\n",
              "\n",
              "    .dataframe tbody tr th {\n",
              "        vertical-align: top;\n",
              "    }\n",
              "\n",
              "    .dataframe thead th {\n",
              "        text-align: right;\n",
              "    }\n",
              "</style>\n",
              "<table border=\"1\" class=\"dataframe\">\n",
              "  <thead>\n",
              "    <tr style=\"text-align: right;\">\n",
              "      <th></th>\n",
              "      <th>Legal Regulation</th>\n",
              "      <th>Type</th>\n",
              "      <th>Product_ID</th>\n",
              "      <th>HTS_Code</th>\n",
              "    </tr>\n",
              "  </thead>\n",
              "  <tbody>\n",
              "    <tr>\n",
              "      <th>0</th>\n",
              "      <td>ACE</td>\n",
              "      <td>101</td>\n",
              "      <td>FWALH024XL00</td>\n",
              "      <td>9.801002e+09</td>\n",
              "    </tr>\n",
              "    <tr>\n",
              "      <th>1</th>\n",
              "      <td>CUSCA</td>\n",
              "      <td>101</td>\n",
              "      <td>FWALH024XL00</td>\n",
              "      <td>9.802000e+09</td>\n",
              "    </tr>\n",
              "    <tr>\n",
              "      <th>2</th>\n",
              "      <td>CUSPA</td>\n",
              "      <td>101</td>\n",
              "      <td>FWALH024XL00</td>\n",
              "      <td>9.603100e+09</td>\n",
              "    </tr>\n",
              "    <tr>\n",
              "      <th>3</th>\n",
              "      <td>CUSMX</td>\n",
              "      <td>101</td>\n",
              "      <td>FWALH024XL00</td>\n",
              "      <td>3.701100e+07</td>\n",
              "    </tr>\n",
              "    <tr>\n",
              "      <th>4</th>\n",
              "      <td>ACE</td>\n",
              "      <td>107</td>\n",
              "      <td>FWALH024XL00</td>\n",
              "      <td>9.903170e+07</td>\n",
              "    </tr>\n",
              "  </tbody>\n",
              "</table>\n",
              "</div>"
            ],
            "text/plain": [
              "  Legal Regulation  Type    Product_ID      HTS_Code\n",
              "0              ACE   101  FWALH024XL00  9.801002e+09\n",
              "1            CUSCA   101  FWALH024XL00  9.802000e+09\n",
              "2            CUSPA   101  FWALH024XL00  9.603100e+09\n",
              "3            CUSMX   101  FWALH024XL00  3.701100e+07\n",
              "4              ACE   107  FWALH024XL00  9.903170e+07"
            ]
          },
          "metadata": {
            "tags": []
          },
          "execution_count": 34
        }
      ]
    },
    {
      "cell_type": "code",
      "metadata": {
        "id": "TLszkPeA15Xh",
        "colab_type": "code",
        "outputId": "9af60c8e-33af-4a29-a4d1-835b3d7a64f4",
        "colab": {
          "base_uri": "https://localhost:8080/",
          "height": 204
        }
      },
      "source": [
        "results = ca_hts.merge(materials, on = 'Product_ID')\n",
        "results.head()"
      ],
      "execution_count": 35,
      "outputs": [
        {
          "output_type": "execute_result",
          "data": {
            "text/html": [
              "<div>\n",
              "<style scoped>\n",
              "    .dataframe tbody tr th:only-of-type {\n",
              "        vertical-align: middle;\n",
              "    }\n",
              "\n",
              "    .dataframe tbody tr th {\n",
              "        vertical-align: top;\n",
              "    }\n",
              "\n",
              "    .dataframe thead th {\n",
              "        text-align: right;\n",
              "    }\n",
              "</style>\n",
              "<table border=\"1\" class=\"dataframe\">\n",
              "  <thead>\n",
              "    <tr style=\"text-align: right;\">\n",
              "      <th></th>\n",
              "      <th>Legal Regulation</th>\n",
              "      <th>Type</th>\n",
              "      <th>Product_ID</th>\n",
              "      <th>HTS_Code</th>\n",
              "    </tr>\n",
              "  </thead>\n",
              "  <tbody>\n",
              "    <tr>\n",
              "      <th>0</th>\n",
              "      <td>CUSCA</td>\n",
              "      <td>101</td>\n",
              "      <td>0-301-709-001</td>\n",
              "      <td>8.539101e+09</td>\n",
              "    </tr>\n",
              "    <tr>\n",
              "      <th>1</th>\n",
              "      <td>CUSCA</td>\n",
              "      <td>101</td>\n",
              "      <td>0-332-209-203</td>\n",
              "      <td>8.536410e+09</td>\n",
              "    </tr>\n",
              "    <tr>\n",
              "      <th>2</th>\n",
              "      <td>CUSCA</td>\n",
              "      <td>101</td>\n",
              "      <td>000-59566-0000</td>\n",
              "      <td>8.544420e+09</td>\n",
              "    </tr>\n",
              "    <tr>\n",
              "      <th>3</th>\n",
              "      <td>CUSCA</td>\n",
              "      <td>101</td>\n",
              "      <td>0001-08</td>\n",
              "      <td>7.318150e+09</td>\n",
              "    </tr>\n",
              "    <tr>\n",
              "      <th>4</th>\n",
              "      <td>CUSCA</td>\n",
              "      <td>101</td>\n",
              "      <td>0001-14</td>\n",
              "      <td>7.318150e+09</td>\n",
              "    </tr>\n",
              "  </tbody>\n",
              "</table>\n",
              "</div>"
            ],
            "text/plain": [
              "  Legal Regulation  Type      Product_ID      HTS_Code\n",
              "0            CUSCA   101   0-301-709-001  8.539101e+09\n",
              "1            CUSCA   101   0-332-209-203  8.536410e+09\n",
              "2            CUSCA   101  000-59566-0000  8.544420e+09\n",
              "3            CUSCA   101         0001-08  7.318150e+09\n",
              "4            CUSCA   101         0001-14  7.318150e+09"
            ]
          },
          "metadata": {
            "tags": []
          },
          "execution_count": 35
        }
      ]
    },
    {
      "cell_type": "code",
      "metadata": {
        "id": "XrlZhVeb6swT",
        "colab_type": "code",
        "outputId": "379d3bae-aab9-48ad-f37b-f537fa47b275",
        "colab": {
          "base_uri": "https://localhost:8080/",
          "height": 102
        }
      },
      "source": [
        "results[\"Product_ID\"].describe()"
      ],
      "execution_count": 36,
      "outputs": [
        {
          "output_type": "execute_result",
          "data": {
            "text/plain": [
              "count       118411\n",
              "unique      114411\n",
              "top       16-04996\n",
              "freq           129\n",
              "Name: Product_ID, dtype: object"
            ]
          },
          "metadata": {
            "tags": []
          },
          "execution_count": 36
        }
      ]
    },
    {
      "cell_type": "code",
      "metadata": {
        "id": "KGRAmS1V7Geu",
        "colab_type": "code",
        "colab": {}
      },
      "source": [
        "from google.colab import files\n",
        "\n",
        "results.to_excel('ca_hts.xlsx')"
      ],
      "execution_count": 0,
      "outputs": []
    },
    {
      "cell_type": "code",
      "metadata": {
        "id": "vdWo0qWB9Gt_",
        "colab_type": "code",
        "colab": {}
      },
      "source": [
        ""
      ],
      "execution_count": 0,
      "outputs": []
    }
  ]
}