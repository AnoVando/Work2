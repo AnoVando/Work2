{
  "nbformat": 4,
  "nbformat_minor": 0,
  "metadata": {
    "colab": {
      "name": "Colab's New Code Editor",
      "provenance": [],
      "collapsed_sections": [],
      "include_colab_link": true
    },
    "kernelspec": {
      "display_name": "Python 3",
      "name": "python3"
    }
  },
  "cells": [
    {
      "cell_type": "markdown",
      "metadata": {
        "id": "view-in-github",
        "colab_type": "text"
      },
      "source": [
        "<a href=\"https://colab.research.google.com/github/AnoVando/Work2/blob/master/supplier_tdm.ipynb\" target=\"_parent\"><img src=\"https://colab.research.google.com/assets/colab-badge.svg\" alt=\"Open In Colab\"/></a>"
      ]
    },
    {
      "cell_type": "code",
      "metadata": {
        "id": "ogddz7iYwTp-",
        "colab_type": "code",
        "colab": {
          "base_uri": "https://localhost:8080/",
          "height": 34
        },
        "outputId": "fa7442dd-14d0-4a8a-ec4d-717afed8f3a0"
      },
      "source": [
        "!pip install sparse_dot_topn"
      ],
      "execution_count": 3,
      "outputs": [
        {
          "output_type": "stream",
          "text": [
            "Requirement already satisfied: sparse_dot_topn in /usr/local/lib/python3.6/dist-packages (0.2.6)\n"
          ],
          "name": "stdout"
        }
      ]
    },
    {
      "cell_type": "code",
      "metadata": {
        "id": "YmTwZgvRzCPx",
        "colab_type": "code",
        "colab": {}
      },
      "source": [
        "import re\n",
        "import pandas as pd\n",
        "from sklearn.feature_extraction.text import TfidfVectorizer\n",
        "\n",
        "# Import your data to a Pandas.DataFrame\n",
        "df = pd.read_csv('https://raw.githubusercontent.com/AnoVando/Work2/master/supplier_data_new.csv', encoding = 'ISO-8859-1')"
      ],
      "execution_count": 0,
      "outputs": []
    },
    {
      "cell_type": "code",
      "metadata": {
        "id": "8wjkXVH0SSxw",
        "colab_type": "code",
        "colab": {}
      },
      "source": [
        "df.drop(df[df.PACCAR_ID == 'UNK'].index, inplace=True)"
      ],
      "execution_count": 0,
      "outputs": []
    },
    {
      "cell_type": "code",
      "metadata": {
        "id": "N5byfah5XMwz",
        "colab_type": "code",
        "colab": {}
      },
      "source": [
        "df = df.applymap(str)"
      ],
      "execution_count": 0,
      "outputs": []
    },
    {
      "cell_type": "code",
      "metadata": {
        "id": "DWxhI7e_Whp3",
        "colab_type": "code",
        "colab": {}
      },
      "source": [
        "df['Address'] = df['Address'].str.upper()\n",
        "df['Name'] = df['Name'].str.upper()\n",
        "df['City'] = df['City'].str.upper()\n",
        "df['Region'] = df['Region'].str.upper()\n",
        "df['Country'] = df['Country'].str.upper()"
      ],
      "execution_count": 0,
      "outputs": []
    },
    {
      "cell_type": "code",
      "metadata": {
        "id": "Naosy9duWkGD",
        "colab_type": "code",
        "colab": {
          "base_uri": "https://localhost:8080/",
          "height": 204
        },
        "outputId": "ee5b866f-d45f-400f-b17c-51becbb1047f"
      },
      "source": [
        "df.head()"
      ],
      "execution_count": 354,
      "outputs": [
        {
          "output_type": "execute_result",
          "data": {
            "text/html": [
              "<div>\n",
              "<style scoped>\n",
              "    .dataframe tbody tr th:only-of-type {\n",
              "        vertical-align: middle;\n",
              "    }\n",
              "\n",
              "    .dataframe tbody tr th {\n",
              "        vertical-align: top;\n",
              "    }\n",
              "\n",
              "    .dataframe thead th {\n",
              "        text-align: right;\n",
              "    }\n",
              "</style>\n",
              "<table border=\"1\" class=\"dataframe\">\n",
              "  <thead>\n",
              "    <tr style=\"text-align: right;\">\n",
              "      <th></th>\n",
              "      <th>System</th>\n",
              "      <th>System_ID</th>\n",
              "      <th>PACCAR_ID</th>\n",
              "      <th>Address</th>\n",
              "      <th>Name</th>\n",
              "      <th>City</th>\n",
              "      <th>Region</th>\n",
              "      <th>Country</th>\n",
              "      <th>Postal_Code</th>\n",
              "    </tr>\n",
              "  </thead>\n",
              "  <tbody>\n",
              "    <tr>\n",
              "      <th>0</th>\n",
              "      <td>SAP S4</td>\n",
              "      <td>SAP S4</td>\n",
              "      <td>11526AA</td>\n",
              "      <td>21 TIDEMAN DRIVE</td>\n",
              "      <td>ROCHLING ENGINEERING PLAST</td>\n",
              "      <td>ORANGEVILLE</td>\n",
              "      <td>ON</td>\n",
              "      <td>CA</td>\n",
              "      <td>L9W 3K3</td>\n",
              "    </tr>\n",
              "    <tr>\n",
              "      <th>1</th>\n",
              "      <td>KW Australia</td>\n",
              "      <td>nan</td>\n",
              "      <td>6250675</td>\n",
              "      <td>2865 LIUXIANG ROAD, JIADING DISTRICT</td>\n",
              "      <td>IBCC PROTECH INC</td>\n",
              "      <td>SHANGHAI</td>\n",
              "      <td>NAN</td>\n",
              "      <td>CN</td>\n",
              "      <td>201818</td>\n",
              "    </tr>\n",
              "    <tr>\n",
              "      <th>2</th>\n",
              "      <td>SAP S4</td>\n",
              "      <td>SAP S4</td>\n",
              "      <td>24022LA</td>\n",
              "      <td>AV. DE LA MONTAÑA #128</td>\n",
              "      <td>EATON TRADING CO., S. DE</td>\n",
              "      <td>QUERETARO</td>\n",
              "      <td>QRO</td>\n",
              "      <td>MX</td>\n",
              "      <td>76220</td>\n",
              "    </tr>\n",
              "    <tr>\n",
              "      <th>3</th>\n",
              "      <td>SAP S4</td>\n",
              "      <td>SAP S4</td>\n",
              "      <td>21722DC</td>\n",
              "      <td>SUITE 110 11101 METRO AIRPORT CENT</td>\n",
              "      <td>POLYBOND- EXPEDITORS</td>\n",
              "      <td>DETROIT</td>\n",
              "      <td>MI</td>\n",
              "      <td>US</td>\n",
              "      <td>48174</td>\n",
              "    </tr>\n",
              "    <tr>\n",
              "      <th>4</th>\n",
              "      <td>KW Australia</td>\n",
              "      <td>nan</td>\n",
              "      <td>6251295</td>\n",
              "      <td>#05-56 VERTEX</td>\n",
              "      <td>LITTELFUSE FAR EAST</td>\n",
              "      <td>NAN</td>\n",
              "      <td>NAN</td>\n",
              "      <td>SG</td>\n",
              "      <td>nan</td>\n",
              "    </tr>\n",
              "  </tbody>\n",
              "</table>\n",
              "</div>"
            ],
            "text/plain": [
              "         System System_ID PACCAR_ID  ... Region Country Postal_Code\n",
              "0        SAP S4    SAP S4   11526AA  ...     ON      CA     L9W 3K3\n",
              "1  KW Australia       nan   6250675  ...    NAN      CN      201818\n",
              "2        SAP S4    SAP S4   24022LA  ...    QRO      MX       76220\n",
              "3        SAP S4    SAP S4   21722DC  ...     MI      US       48174\n",
              "4  KW Australia       nan   6251295  ...    NAN      SG         nan\n",
              "\n",
              "[5 rows x 9 columns]"
            ]
          },
          "metadata": {
            "tags": []
          },
          "execution_count": 354
        }
      ]
    },
    {
      "cell_type": "code",
      "metadata": {
        "id": "5MuI8k9pzFRy",
        "colab_type": "code",
        "colab": {}
      },
      "source": [
        "df['Full_Address'] = df['Address'].map(str) + df['City'].map(str) + df['Region'].map(str)"
      ],
      "execution_count": 0,
      "outputs": []
    },
    {
      "cell_type": "code",
      "metadata": {
        "id": "pfAOsfBgtHGO",
        "colab_type": "code",
        "colab": {}
      },
      "source": [
        "# Grab the column you'd like to group, filter out duplicate values\n",
        "# and make sure the values are Unicode\n",
        "vals = df['Full_Address'].unique().astype('U')\n",
        "\n",
        "\n",
        "# Write a function for cleaning strings and returning an array of ngrams\n",
        "def ngrams_analyzer(string):\n",
        "    string = re.sub(r'[,-./]', r'', string)\n",
        "    ngrams = zip(*[string[i:] for i in range(3)])  # N-Gram length\n",
        "    return [''.join(ngram) for ngram in ngrams]\n",
        "\n",
        "# Construct your vectorizer for building the TF-IDF matrix\n",
        "vectorizer = TfidfVectorizer(analyzer=ngrams_analyzer)\n",
        "\n",
        "# Build the matrix!!!\n",
        "tf_idf_matrix = vectorizer.fit_transform(vals)"
      ],
      "execution_count": 0,
      "outputs": []
    },
    {
      "cell_type": "code",
      "metadata": {
        "id": "jCyQ30cUthQ0",
        "colab_type": "code",
        "colab": {}
      },
      "source": [
        "# Import IGN's awesome_cossim_topn module\n",
        "import numpy as np\n",
        "from scipy.sparse import csr_matrix\n",
        "from scipy.sparse import rand\n",
        "from sparse_dot_topn import awesome_cossim_topn\n",
        "\n",
        "\n",
        "# The arguments for awesome_cossim_topn are as follows:\n",
        "### 1. Our TF-IDF matrix\n",
        "### 2. Our TF-IDF matrix transposed (allowing us to build a pairwise cosine matrix)\n",
        "### 3. A top_n filter, which allows us to filter the number of matches returned, which isn't useful for our purposes\n",
        "### 4. This is our similarity threshold. Only values over 0.8 will be returned\n",
        "cosine_matrix = awesome_cossim_topn(\n",
        "  tf_idf_matrix,\n",
        "  tf_idf_matrix.transpose(),\n",
        "  vals.size,\n",
        "  0.9)\n"
      ],
      "execution_count": 0,
      "outputs": []
    },
    {
      "cell_type": "code",
      "metadata": {
        "id": "FqBhLUSWvUTN",
        "colab_type": "code",
        "colab": {}
      },
      "source": [
        "# Build a coordinate matrix from a cosine matrix\n",
        "coo_matrix = cosine_matrix.tocoo()\n",
        "\n",
        "# Instaniate our lookup hash table\n",
        "group_lookup = {}\n",
        "\n",
        "\n",
        "def find_group(row, col):\n",
        "    # If either the row or the col string have already been given\n",
        "    # a group, return that group. Otherwise return none\n",
        "    if row in group_lookup:\n",
        "        return group_lookup[row]\n",
        "    elif col in group_lookup:\n",
        "        return group_lookup[col]\n",
        "    else:\n",
        "        return None\n",
        "\n",
        "\n",
        "def add_vals_to_lookup(group, row, col):\n",
        "    # Once we know the group name, set it as the value\n",
        "    # for both strings in the group_lookup\n",
        "    group_lookup[row] = group\n",
        "    group_lookup[col] = group\n",
        "\n",
        "\n",
        "def add_pair_to_lookup(row, col):\n",
        "    # in this function we'll add both the row and the col to the lookup\n",
        "    group = find_group(row, col)  # first, see if one has already been added\n",
        "    if group is not None:\n",
        "        # if we already know the group, make sure both row and col are in lookup\n",
        "        add_vals_to_lookup(group, row, col)\n",
        "    else:\n",
        "        # if we get here, we need to add a new group.\n",
        "        # The name is arbitrary, so just make it the row\n",
        "        add_vals_to_lookup(row, row, col)\n",
        "\n",
        "# for each row and column in coo_matrix\n",
        "# if they're not the same string add them to the group lookup\n",
        "for row, col in zip(coo_matrix.row, coo_matrix.col):\n",
        "    if row != col:\n",
        "        # Note that what is passed to add_pair_to_lookup is the string at each index\n",
        "        # (eg: the names in the legal_name column) not the indices themselves\n",
        "        add_pair_to_lookup(vals[row], vals[col])"
      ],
      "execution_count": 0,
      "outputs": []
    },
    {
      "cell_type": "code",
      "metadata": {
        "id": "NYTXEeH2w7yV",
        "colab_type": "code",
        "colab": {}
      },
      "source": [
        "df['Group'] = df['Full_Address'].map(group_lookup).fillna(df['Full_Address'])\n",
        "\n",
        "#df.to_csv('./dol-data-grouped.csv')"
      ],
      "execution_count": 0,
      "outputs": []
    },
    {
      "cell_type": "code",
      "metadata": {
        "id": "tJxkuVch5MFz",
        "colab_type": "code",
        "colab": {}
      },
      "source": [
        "df['Occurences'] = df.groupby('Group')['Group'].transform('count')"
      ],
      "execution_count": 0,
      "outputs": []
    },
    {
      "cell_type": "code",
      "metadata": {
        "id": "2jbBDINh86QO",
        "colab_type": "code",
        "colab": {}
      },
      "source": [
        "df.drop(columns='Full_Address', inplace=True)"
      ],
      "execution_count": 0,
      "outputs": []
    },
    {
      "cell_type": "code",
      "metadata": {
        "id": "HUTG5pKuE1IJ",
        "colab_type": "code",
        "colab": {
          "base_uri": "https://localhost:8080/",
          "height": 272
        },
        "outputId": "cfe49db1-568b-416d-f2e9-38184dbacc1d"
      },
      "source": [
        "df.head()"
      ],
      "execution_count": 362,
      "outputs": [
        {
          "output_type": "execute_result",
          "data": {
            "text/html": [
              "<div>\n",
              "<style scoped>\n",
              "    .dataframe tbody tr th:only-of-type {\n",
              "        vertical-align: middle;\n",
              "    }\n",
              "\n",
              "    .dataframe tbody tr th {\n",
              "        vertical-align: top;\n",
              "    }\n",
              "\n",
              "    .dataframe thead th {\n",
              "        text-align: right;\n",
              "    }\n",
              "</style>\n",
              "<table border=\"1\" class=\"dataframe\">\n",
              "  <thead>\n",
              "    <tr style=\"text-align: right;\">\n",
              "      <th></th>\n",
              "      <th>System</th>\n",
              "      <th>System_ID</th>\n",
              "      <th>PACCAR_ID</th>\n",
              "      <th>Address</th>\n",
              "      <th>Name</th>\n",
              "      <th>City</th>\n",
              "      <th>Region</th>\n",
              "      <th>Country</th>\n",
              "      <th>Postal_Code</th>\n",
              "      <th>Group</th>\n",
              "      <th>Occurences</th>\n",
              "    </tr>\n",
              "  </thead>\n",
              "  <tbody>\n",
              "    <tr>\n",
              "      <th>0</th>\n",
              "      <td>SAP S4</td>\n",
              "      <td>SAP S4</td>\n",
              "      <td>11526AA</td>\n",
              "      <td>21 TIDEMAN DRIVE</td>\n",
              "      <td>ROCHLING ENGINEERING PLAST</td>\n",
              "      <td>ORANGEVILLE</td>\n",
              "      <td>ON</td>\n",
              "      <td>CA</td>\n",
              "      <td>L9W 3K3</td>\n",
              "      <td>21 TIDEMAN DRIVEORANGEVILLEON</td>\n",
              "      <td>6</td>\n",
              "    </tr>\n",
              "    <tr>\n",
              "      <th>1</th>\n",
              "      <td>KW Australia</td>\n",
              "      <td>nan</td>\n",
              "      <td>6250675</td>\n",
              "      <td>2865 LIUXIANG ROAD, JIADING DISTRICT</td>\n",
              "      <td>IBCC PROTECH INC</td>\n",
              "      <td>SHANGHAI</td>\n",
              "      <td>NAN</td>\n",
              "      <td>CN</td>\n",
              "      <td>201818</td>\n",
              "      <td>2865 LIUXIANG ROAD, JIADING DISTRICTSHANGHAINAN</td>\n",
              "      <td>1</td>\n",
              "    </tr>\n",
              "    <tr>\n",
              "      <th>2</th>\n",
              "      <td>SAP S4</td>\n",
              "      <td>SAP S4</td>\n",
              "      <td>24022LA</td>\n",
              "      <td>AV. DE LA MONTAÑA #128</td>\n",
              "      <td>EATON TRADING CO., S. DE</td>\n",
              "      <td>QUERETARO</td>\n",
              "      <td>QRO</td>\n",
              "      <td>MX</td>\n",
              "      <td>76220</td>\n",
              "      <td>AV. DE LA MONTAÑA #128QUERETAROQRO</td>\n",
              "      <td>2</td>\n",
              "    </tr>\n",
              "    <tr>\n",
              "      <th>3</th>\n",
              "      <td>SAP S4</td>\n",
              "      <td>SAP S4</td>\n",
              "      <td>21722DC</td>\n",
              "      <td>SUITE 110 11101 METRO AIRPORT CENT</td>\n",
              "      <td>POLYBOND- EXPEDITORS</td>\n",
              "      <td>DETROIT</td>\n",
              "      <td>MI</td>\n",
              "      <td>US</td>\n",
              "      <td>48174</td>\n",
              "      <td>SUITE 110 11101 METRO AIRPORT CENTDETROITMI</td>\n",
              "      <td>1</td>\n",
              "    </tr>\n",
              "    <tr>\n",
              "      <th>4</th>\n",
              "      <td>KW Australia</td>\n",
              "      <td>nan</td>\n",
              "      <td>6251295</td>\n",
              "      <td>#05-56 VERTEX</td>\n",
              "      <td>LITTELFUSE FAR EAST</td>\n",
              "      <td>NAN</td>\n",
              "      <td>NAN</td>\n",
              "      <td>SG</td>\n",
              "      <td>nan</td>\n",
              "      <td>#05-56 VERTEXNANNAN</td>\n",
              "      <td>1</td>\n",
              "    </tr>\n",
              "  </tbody>\n",
              "</table>\n",
              "</div>"
            ],
            "text/plain": [
              "         System  ... Occurences\n",
              "0        SAP S4  ...          6\n",
              "1  KW Australia  ...          1\n",
              "2        SAP S4  ...          2\n",
              "3        SAP S4  ...          1\n",
              "4  KW Australia  ...          1\n",
              "\n",
              "[5 rows x 11 columns]"
            ]
          },
          "metadata": {
            "tags": []
          },
          "execution_count": 362
        }
      ]
    },
    {
      "cell_type": "code",
      "metadata": {
        "id": "dFFKfAISyLlG",
        "colab_type": "code",
        "colab": {}
      },
      "source": [
        "from google.colab import files\n",
        "\n",
        "df.to_excel('supplier_data_address_90.xlsx')"
      ],
      "execution_count": 0,
      "outputs": []
    },
    {
      "cell_type": "code",
      "metadata": {
        "id": "UDXp5zaqyb-5",
        "colab_type": "code",
        "colab": {}
      },
      "source": [
        ""
      ],
      "execution_count": 0,
      "outputs": []
    }
  ]
}