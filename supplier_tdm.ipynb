{
  "nbformat": 4,
  "nbformat_minor": 0,
  "metadata": {
    "colab": {
      "name": "Colab's New Code Editor",
      "provenance": [],
      "collapsed_sections": [],
      "include_colab_link": true
    },
    "kernelspec": {
      "display_name": "Python 3",
      "name": "python3"
    }
  },
  "cells": [
    {
      "cell_type": "markdown",
      "metadata": {
        "id": "view-in-github",
        "colab_type": "text"
      },
      "source": [
        "<a href=\"https://colab.research.google.com/github/AnoVando/Work2/blob/master/supplier_tdm.ipynb\" target=\"_parent\"><img src=\"https://colab.research.google.com/assets/colab-badge.svg\" alt=\"Open In Colab\"/></a>"
      ]
    },
    {
      "cell_type": "code",
      "metadata": {
        "id": "ogddz7iYwTp-",
        "colab_type": "code",
        "colab": {}
      },
      "source": [
        "!pip install sparse_dot_topn"
      ],
      "execution_count": 0,
      "outputs": []
    },
    {
      "cell_type": "code",
      "metadata": {
        "id": "YmTwZgvRzCPx",
        "colab_type": "code",
        "colab": {}
      },
      "source": [
        "import re\n",
        "import pandas as pd\n",
        "from sklearn.feature_extraction.text import TfidfVectorizer\n",
        "\n",
        "# Import your data to a Pandas.DataFrame\n",
        "df = pd.read_csv('https://raw.githubusercontent.com/AnoVando/Work2/master/supplier_data.csv', encoding = 'ISO-8859-1')"
      ],
      "execution_count": 0,
      "outputs": []
    },
    {
      "cell_type": "code",
      "metadata": {
        "id": "OX0JzFJpzeIE",
        "colab_type": "code",
        "colab": {
          "base_uri": "https://localhost:8080/",
          "height": 204
        },
        "outputId": "ad79a575-ebcd-4c51-8641-2a614f3863b5"
      },
      "source": [
        "df.head()"
      ],
      "execution_count": 36,
      "outputs": [
        {
          "output_type": "execute_result",
          "data": {
            "text/html": [
              "<div>\n",
              "<style scoped>\n",
              "    .dataframe tbody tr th:only-of-type {\n",
              "        vertical-align: middle;\n",
              "    }\n",
              "\n",
              "    .dataframe tbody tr th {\n",
              "        vertical-align: top;\n",
              "    }\n",
              "\n",
              "    .dataframe thead th {\n",
              "        text-align: right;\n",
              "    }\n",
              "</style>\n",
              "<table border=\"1\" class=\"dataframe\">\n",
              "  <thead>\n",
              "    <tr style=\"text-align: right;\">\n",
              "      <th></th>\n",
              "      <th>System</th>\n",
              "      <th>Valid_Code</th>\n",
              "      <th>Address</th>\n",
              "      <th>Name</th>\n",
              "      <th>City</th>\n",
              "      <th>Region</th>\n",
              "      <th>Country</th>\n",
              "      <th>Postal_Code</th>\n",
              "      <th>PACCAR_ID</th>\n",
              "      <th>System_ID</th>\n",
              "    </tr>\n",
              "  </thead>\n",
              "  <tbody>\n",
              "    <tr>\n",
              "      <th>0</th>\n",
              "      <td>SAP S4</td>\n",
              "      <td>11526AA</td>\n",
              "      <td>21 TIDEMAN DRIVE</td>\n",
              "      <td>ROCHLING ENGINEERING PLAST</td>\n",
              "      <td>ORANGEVILLE</td>\n",
              "      <td>ON</td>\n",
              "      <td>CA</td>\n",
              "      <td>L9W 3K3</td>\n",
              "      <td>NaN</td>\n",
              "      <td>SAP S4</td>\n",
              "    </tr>\n",
              "    <tr>\n",
              "      <th>1</th>\n",
              "      <td>KW Australia</td>\n",
              "      <td>NaN</td>\n",
              "      <td>2865 LIUXIANG ROAD, JIADING DISTRICT</td>\n",
              "      <td>IBCC PROTECH INC</td>\n",
              "      <td>SHANGHAI</td>\n",
              "      <td>NaN</td>\n",
              "      <td>CN</td>\n",
              "      <td>201818</td>\n",
              "      <td>6250675</td>\n",
              "      <td>NaN</td>\n",
              "    </tr>\n",
              "    <tr>\n",
              "      <th>2</th>\n",
              "      <td>SAP S4</td>\n",
              "      <td>24022LA</td>\n",
              "      <td>AV. DE LA MONTAÑA #128</td>\n",
              "      <td>EATON TRADING CO., S. DE</td>\n",
              "      <td>QUERETARO</td>\n",
              "      <td>QRO</td>\n",
              "      <td>MX</td>\n",
              "      <td>76220</td>\n",
              "      <td>NaN</td>\n",
              "      <td>SAP S4</td>\n",
              "    </tr>\n",
              "    <tr>\n",
              "      <th>3</th>\n",
              "      <td>SAP S4</td>\n",
              "      <td>21722DC</td>\n",
              "      <td>SUITE 110 11101 METRO AIRPORT CENT</td>\n",
              "      <td>POLYBOND- EXPEDITORS</td>\n",
              "      <td>DETROIT</td>\n",
              "      <td>MI</td>\n",
              "      <td>US</td>\n",
              "      <td>48174</td>\n",
              "      <td>NaN</td>\n",
              "      <td>SAP S4</td>\n",
              "    </tr>\n",
              "    <tr>\n",
              "      <th>4</th>\n",
              "      <td>KW Australia</td>\n",
              "      <td>NaN</td>\n",
              "      <td>#05-56 VERTEX</td>\n",
              "      <td>Littelfuse Far East</td>\n",
              "      <td>NaN</td>\n",
              "      <td>NaN</td>\n",
              "      <td>SG</td>\n",
              "      <td>NaN</td>\n",
              "      <td>6251295</td>\n",
              "      <td>NaN</td>\n",
              "    </tr>\n",
              "  </tbody>\n",
              "</table>\n",
              "</div>"
            ],
            "text/plain": [
              "         System Valid_Code  ... PACCAR_ID System_ID\n",
              "0        SAP S4    11526AA  ...       NaN    SAP S4\n",
              "1  KW Australia        NaN  ...   6250675       NaN\n",
              "2        SAP S4    24022LA  ...       NaN    SAP S4\n",
              "3        SAP S4    21722DC  ...       NaN    SAP S4\n",
              "4  KW Australia        NaN  ...   6251295       NaN\n",
              "\n",
              "[5 rows x 10 columns]"
            ]
          },
          "metadata": {
            "tags": []
          },
          "execution_count": 36
        }
      ]
    },
    {
      "cell_type": "code",
      "metadata": {
        "id": "5MuI8k9pzFRy",
        "colab_type": "code",
        "colab": {}
      },
      "source": [
        "df['Full_Address'] = df['Address'].map(str) + df['City'].map(str) + df['Region'].map(str) + df['Country'].map(str) + df['Postal_Code'].map(str)"
      ],
      "execution_count": 0,
      "outputs": []
    },
    {
      "cell_type": "code",
      "metadata": {
        "id": "pfAOsfBgtHGO",
        "colab_type": "code",
        "colab": {}
      },
      "source": [
        "# Grab the column you'd like to group, filter out duplicate values\n",
        "# and make sure the values are Unicode\n",
        "vals = df['Full_Address'].unique().astype('U')\n",
        "\n",
        "\n",
        "# Write a function for cleaning strings and returning an array of ngrams\n",
        "def ngrams_analyzer(string):\n",
        "    string = re.sub(r'[,-./]', r'', string)\n",
        "    ngrams = zip(*[string[i:] for i in range(5)])  # N-Gram length is 5\n",
        "    return [''.join(ngram) for ngram in ngrams]\n",
        "\n",
        "# Construct your vectorizer for building the TF-IDF matrix\n",
        "vectorizer = TfidfVectorizer(analyzer=ngrams_analyzer)\n",
        "\n",
        "# Build the matrix!!!\n",
        "tf_idf_matrix = vectorizer.fit_transform(vals)"
      ],
      "execution_count": 0,
      "outputs": []
    },
    {
      "cell_type": "code",
      "metadata": {
        "id": "jCyQ30cUthQ0",
        "colab_type": "code",
        "colab": {}
      },
      "source": [
        "# Import IGN's awesome_cossim_topn module\n",
        "import numpy as np\n",
        "from scipy.sparse import csr_matrix\n",
        "from scipy.sparse import rand\n",
        "from sparse_dot_topn import awesome_cossim_topn\n",
        "\n",
        "\n",
        "# The arguments for awesome_cossim_topn are as follows:\n",
        "### 1. Our TF-IDF matrix\n",
        "### 2. Our TF-IDF matrix transposed (allowing us to build a pairwise cosine matrix)\n",
        "### 3. A top_n filter, which allows us to filter the number of matches returned, which isn't useful for our purposes\n",
        "### 4. This is our similarity threshold. Only values over 0.8 will be returned\n",
        "cosine_matrix = awesome_cossim_topn(\n",
        "  tf_idf_matrix,\n",
        "  tf_idf_matrix.transpose(),\n",
        "  vals.size,\n",
        "  0.8\n",
        ")\n"
      ],
      "execution_count": 0,
      "outputs": []
    },
    {
      "cell_type": "code",
      "metadata": {
        "id": "FqBhLUSWvUTN",
        "colab_type": "code",
        "colab": {}
      },
      "source": [
        "# Build a coordinate matrix from a cosine matrix\n",
        "coo_matrix = cosine_matrix.tocoo()\n",
        "\n",
        "# Instaniate our lookup hash table\n",
        "group_lookup = {}\n",
        "\n",
        "\n",
        "def find_group(row, col):\n",
        "    # If either the row or the col string have already been given\n",
        "    # a group, return that group. Otherwise return none\n",
        "    if row in group_lookup:\n",
        "        return group_lookup[row]\n",
        "    elif col in group_lookup:\n",
        "        return group_lookup[col]\n",
        "    else:\n",
        "        return None\n",
        "\n",
        "\n",
        "def add_vals_to_lookup(group, row, col):\n",
        "    # Once we know the group name, set it as the value\n",
        "    # for both strings in the group_lookup\n",
        "    group_lookup[row] = group\n",
        "    group_lookup[col] = group\n",
        "\n",
        "\n",
        "def add_pair_to_lookup(row, col):\n",
        "    # in this function we'll add both the row and the col to the lookup\n",
        "    group = find_group(row, col)  # first, see if one has already been added\n",
        "    if group is not None:\n",
        "        # if we already know the group, make sure both row and col are in lookup\n",
        "        add_vals_to_lookup(group, row, col)\n",
        "    else:\n",
        "        # if we get here, we need to add a new group.\n",
        "        # The name is arbitrary, so just make it the row\n",
        "        add_vals_to_lookup(row, row, col)\n",
        "\n",
        "# for each row and column in coo_matrix\n",
        "# if they're not the same string add them to the group lookup\n",
        "for row, col in zip(coo_matrix.row, coo_matrix.col):\n",
        "    if row != col:\n",
        "        # Note that what is passed to add_pair_to_lookup is the string at each index\n",
        "        # (eg: the names in the legal_name column) not the indices themselves\n",
        "        add_pair_to_lookup(vals[row], vals[col])"
      ],
      "execution_count": 0,
      "outputs": []
    },
    {
      "cell_type": "code",
      "metadata": {
        "id": "NYTXEeH2w7yV",
        "colab_type": "code",
        "colab": {}
      },
      "source": [
        "df['Group'] = df['Full_Address'].map(group_lookup).fillna(df['Full_Address'])\n",
        "\n",
        "#df.to_csv('./dol-data-grouped.csv')"
      ],
      "execution_count": 0,
      "outputs": []
    },
    {
      "cell_type": "code",
      "metadata": {
        "id": "NGV7OxfJxvqy",
        "colab_type": "code",
        "colab": {
          "base_uri": "https://localhost:8080/",
          "height": 323
        },
        "outputId": "329de79c-6ab4-4b17-9254-f418f082a4dd"
      },
      "source": [
        "df.head()"
      ],
      "execution_count": 42,
      "outputs": [
        {
          "output_type": "execute_result",
          "data": {
            "text/html": [
              "<div>\n",
              "<style scoped>\n",
              "    .dataframe tbody tr th:only-of-type {\n",
              "        vertical-align: middle;\n",
              "    }\n",
              "\n",
              "    .dataframe tbody tr th {\n",
              "        vertical-align: top;\n",
              "    }\n",
              "\n",
              "    .dataframe thead th {\n",
              "        text-align: right;\n",
              "    }\n",
              "</style>\n",
              "<table border=\"1\" class=\"dataframe\">\n",
              "  <thead>\n",
              "    <tr style=\"text-align: right;\">\n",
              "      <th></th>\n",
              "      <th>System</th>\n",
              "      <th>Valid_Code</th>\n",
              "      <th>Address</th>\n",
              "      <th>Name</th>\n",
              "      <th>City</th>\n",
              "      <th>Region</th>\n",
              "      <th>Country</th>\n",
              "      <th>Postal_Code</th>\n",
              "      <th>PACCAR_ID</th>\n",
              "      <th>System_ID</th>\n",
              "      <th>Full_Address</th>\n",
              "      <th>Group</th>\n",
              "    </tr>\n",
              "  </thead>\n",
              "  <tbody>\n",
              "    <tr>\n",
              "      <th>0</th>\n",
              "      <td>SAP S4</td>\n",
              "      <td>11526AA</td>\n",
              "      <td>21 TIDEMAN DRIVE</td>\n",
              "      <td>ROCHLING ENGINEERING PLAST</td>\n",
              "      <td>ORANGEVILLE</td>\n",
              "      <td>ON</td>\n",
              "      <td>CA</td>\n",
              "      <td>L9W 3K3</td>\n",
              "      <td>NaN</td>\n",
              "      <td>SAP S4</td>\n",
              "      <td>21 TIDEMAN DRIVEORANGEVILLEONCAL9W 3K3</td>\n",
              "      <td>21 TIDEMAN DRIVEORANGEVILLEONCAL9W 3K3</td>\n",
              "    </tr>\n",
              "    <tr>\n",
              "      <th>1</th>\n",
              "      <td>KW Australia</td>\n",
              "      <td>NaN</td>\n",
              "      <td>2865 LIUXIANG ROAD, JIADING DISTRICT</td>\n",
              "      <td>IBCC PROTECH INC</td>\n",
              "      <td>SHANGHAI</td>\n",
              "      <td>NaN</td>\n",
              "      <td>CN</td>\n",
              "      <td>201818</td>\n",
              "      <td>6250675</td>\n",
              "      <td>NaN</td>\n",
              "      <td>2865 LIUXIANG ROAD, JIADING DISTRICTSHANGHAIn...</td>\n",
              "      <td>2865 LIUXIANG ROAD, JIADING DISTRICTSHANGHAIn...</td>\n",
              "    </tr>\n",
              "    <tr>\n",
              "      <th>2</th>\n",
              "      <td>SAP S4</td>\n",
              "      <td>24022LA</td>\n",
              "      <td>AV. DE LA MONTAÑA #128</td>\n",
              "      <td>EATON TRADING CO., S. DE</td>\n",
              "      <td>QUERETARO</td>\n",
              "      <td>QRO</td>\n",
              "      <td>MX</td>\n",
              "      <td>76220</td>\n",
              "      <td>NaN</td>\n",
              "      <td>SAP S4</td>\n",
              "      <td>AV. DE LA MONTAÑA #128QUERETAROQROMX76220</td>\n",
              "      <td>AV. DE LA MONTAÑA #128QUERETAROQROMX76220</td>\n",
              "    </tr>\n",
              "    <tr>\n",
              "      <th>3</th>\n",
              "      <td>SAP S4</td>\n",
              "      <td>21722DC</td>\n",
              "      <td>SUITE 110 11101 METRO AIRPORT CENT</td>\n",
              "      <td>POLYBOND- EXPEDITORS</td>\n",
              "      <td>DETROIT</td>\n",
              "      <td>MI</td>\n",
              "      <td>US</td>\n",
              "      <td>48174</td>\n",
              "      <td>NaN</td>\n",
              "      <td>SAP S4</td>\n",
              "      <td>SUITE 110 11101 METRO AIRPORT CENTDETROITMIUS...</td>\n",
              "      <td>SUITE 110 11101 METRO AIRPORT CENTDETROITMIUS...</td>\n",
              "    </tr>\n",
              "    <tr>\n",
              "      <th>4</th>\n",
              "      <td>KW Australia</td>\n",
              "      <td>NaN</td>\n",
              "      <td>#05-56 VERTEX</td>\n",
              "      <td>Littelfuse Far East</td>\n",
              "      <td>NaN</td>\n",
              "      <td>NaN</td>\n",
              "      <td>SG</td>\n",
              "      <td>NaN</td>\n",
              "      <td>6251295</td>\n",
              "      <td>NaN</td>\n",
              "      <td>#05-56 VERTEXnannanSGnan</td>\n",
              "      <td>#05-56 VERTEXnannanSGnan</td>\n",
              "    </tr>\n",
              "  </tbody>\n",
              "</table>\n",
              "</div>"
            ],
            "text/plain": [
              "         System  ...                                              Group\n",
              "0        SAP S4  ...             21 TIDEMAN DRIVEORANGEVILLEONCAL9W 3K3\n",
              "1  KW Australia  ...   2865 LIUXIANG ROAD, JIADING DISTRICTSHANGHAIn...\n",
              "2        SAP S4  ...          AV. DE LA MONTAÑA #128QUERETAROQROMX76220\n",
              "3        SAP S4  ...   SUITE 110 11101 METRO AIRPORT CENTDETROITMIUS...\n",
              "4  KW Australia  ...                           #05-56 VERTEXnannanSGnan\n",
              "\n",
              "[5 rows x 12 columns]"
            ]
          },
          "metadata": {
            "tags": []
          },
          "execution_count": 42
        }
      ]
    },
    {
      "cell_type": "code",
      "metadata": {
        "id": "QhJQd9-Pxw_n",
        "colab_type": "code",
        "colab": {
          "base_uri": "https://localhost:8080/",
          "height": 34
        },
        "outputId": "362d034a-cd0d-47cd-f1f4-a548baa2ba5d"
      },
      "source": [
        "df['Address'].nunique()"
      ],
      "execution_count": 43,
      "outputs": [
        {
          "output_type": "execute_result",
          "data": {
            "text/plain": [
              "31929"
            ]
          },
          "metadata": {
            "tags": []
          },
          "execution_count": 43
        }
      ]
    },
    {
      "cell_type": "code",
      "metadata": {
        "id": "61kafHcmx39C",
        "colab_type": "code",
        "colab": {
          "base_uri": "https://localhost:8080/",
          "height": 34
        },
        "outputId": "da1f1e17-3a9c-4b22-f594-d775e2f08b42"
      },
      "source": [
        "df['Group'].nunique()"
      ],
      "execution_count": 44,
      "outputs": [
        {
          "output_type": "execute_result",
          "data": {
            "text/plain": [
              "29793"
            ]
          },
          "metadata": {
            "tags": []
          },
          "execution_count": 44
        }
      ]
    },
    {
      "cell_type": "code",
      "metadata": {
        "id": "fW9hyHob8Osa",
        "colab_type": "code",
        "colab": {}
      },
      "source": [
        "df['Group'] = df['Group'].map(str)"
      ],
      "execution_count": 0,
      "outputs": []
    },
    {
      "cell_type": "code",
      "metadata": {
        "id": "tJxkuVch5MFz",
        "colab_type": "code",
        "colab": {}
      },
      "source": [
        "df['Occurences'] = df.groupby('Group')['Group'].transform('count')"
      ],
      "execution_count": 0,
      "outputs": []
    },
    {
      "cell_type": "code",
      "metadata": {
        "id": "2jbBDINh86QO",
        "colab_type": "code",
        "colab": {
          "base_uri": "https://localhost:8080/",
          "height": 340
        },
        "outputId": "426dde9e-d518-4bd5-ab2a-0a64a476599a"
      },
      "source": [
        "df.head()"
      ],
      "execution_count": 54,
      "outputs": [
        {
          "output_type": "execute_result",
          "data": {
            "text/html": [
              "<div>\n",
              "<style scoped>\n",
              "    .dataframe tbody tr th:only-of-type {\n",
              "        vertical-align: middle;\n",
              "    }\n",
              "\n",
              "    .dataframe tbody tr th {\n",
              "        vertical-align: top;\n",
              "    }\n",
              "\n",
              "    .dataframe thead th {\n",
              "        text-align: right;\n",
              "    }\n",
              "</style>\n",
              "<table border=\"1\" class=\"dataframe\">\n",
              "  <thead>\n",
              "    <tr style=\"text-align: right;\">\n",
              "      <th></th>\n",
              "      <th>System</th>\n",
              "      <th>Valid_Code</th>\n",
              "      <th>Address</th>\n",
              "      <th>Name</th>\n",
              "      <th>City</th>\n",
              "      <th>Region</th>\n",
              "      <th>Country</th>\n",
              "      <th>Postal_Code</th>\n",
              "      <th>PACCAR_ID</th>\n",
              "      <th>System_ID</th>\n",
              "      <th>Full_Address</th>\n",
              "      <th>Group</th>\n",
              "      <th>Occurences</th>\n",
              "    </tr>\n",
              "  </thead>\n",
              "  <tbody>\n",
              "    <tr>\n",
              "      <th>0</th>\n",
              "      <td>SAP S4</td>\n",
              "      <td>11526AA</td>\n",
              "      <td>21 TIDEMAN DRIVE</td>\n",
              "      <td>ROCHLING ENGINEERING PLAST</td>\n",
              "      <td>ORANGEVILLE</td>\n",
              "      <td>ON</td>\n",
              "      <td>CA</td>\n",
              "      <td>L9W 3K3</td>\n",
              "      <td>NaN</td>\n",
              "      <td>SAP S4</td>\n",
              "      <td>21 TIDEMAN DRIVEORANGEVILLEONCAL9W 3K3</td>\n",
              "      <td>21 TIDEMAN DRIVEORANGEVILLEONCAL9W 3K3</td>\n",
              "      <td>4</td>\n",
              "    </tr>\n",
              "    <tr>\n",
              "      <th>1</th>\n",
              "      <td>KW Australia</td>\n",
              "      <td>NaN</td>\n",
              "      <td>2865 LIUXIANG ROAD, JIADING DISTRICT</td>\n",
              "      <td>IBCC PROTECH INC</td>\n",
              "      <td>SHANGHAI</td>\n",
              "      <td>NaN</td>\n",
              "      <td>CN</td>\n",
              "      <td>201818</td>\n",
              "      <td>6250675</td>\n",
              "      <td>NaN</td>\n",
              "      <td>2865 LIUXIANG ROAD, JIADING DISTRICTSHANGHAIn...</td>\n",
              "      <td>2865 LIUXIANG ROAD, JIADING DISTRICTSHANGHAIn...</td>\n",
              "      <td>1</td>\n",
              "    </tr>\n",
              "    <tr>\n",
              "      <th>2</th>\n",
              "      <td>SAP S4</td>\n",
              "      <td>24022LA</td>\n",
              "      <td>AV. DE LA MONTAÑA #128</td>\n",
              "      <td>EATON TRADING CO., S. DE</td>\n",
              "      <td>QUERETARO</td>\n",
              "      <td>QRO</td>\n",
              "      <td>MX</td>\n",
              "      <td>76220</td>\n",
              "      <td>NaN</td>\n",
              "      <td>SAP S4</td>\n",
              "      <td>AV. DE LA MONTAÑA #128QUERETAROQROMX76220</td>\n",
              "      <td>AV. DE LA MONTAÑA #128QUERETAROQROMX76220</td>\n",
              "      <td>2</td>\n",
              "    </tr>\n",
              "    <tr>\n",
              "      <th>3</th>\n",
              "      <td>SAP S4</td>\n",
              "      <td>21722DC</td>\n",
              "      <td>SUITE 110 11101 METRO AIRPORT CENT</td>\n",
              "      <td>POLYBOND- EXPEDITORS</td>\n",
              "      <td>DETROIT</td>\n",
              "      <td>MI</td>\n",
              "      <td>US</td>\n",
              "      <td>48174</td>\n",
              "      <td>NaN</td>\n",
              "      <td>SAP S4</td>\n",
              "      <td>SUITE 110 11101 METRO AIRPORT CENTDETROITMIUS...</td>\n",
              "      <td>SUITE 110 11101 METRO AIRPORT CENTDETROITMIUS...</td>\n",
              "      <td>1</td>\n",
              "    </tr>\n",
              "    <tr>\n",
              "      <th>4</th>\n",
              "      <td>KW Australia</td>\n",
              "      <td>NaN</td>\n",
              "      <td>#05-56 VERTEX</td>\n",
              "      <td>Littelfuse Far East</td>\n",
              "      <td>NaN</td>\n",
              "      <td>NaN</td>\n",
              "      <td>SG</td>\n",
              "      <td>NaN</td>\n",
              "      <td>6251295</td>\n",
              "      <td>NaN</td>\n",
              "      <td>#05-56 VERTEXnannanSGnan</td>\n",
              "      <td>#05-56 VERTEXnannanSGnan</td>\n",
              "      <td>1</td>\n",
              "    </tr>\n",
              "  </tbody>\n",
              "</table>\n",
              "</div>"
            ],
            "text/plain": [
              "         System  ... Occurences\n",
              "0        SAP S4  ...          4\n",
              "1  KW Australia  ...          1\n",
              "2        SAP S4  ...          2\n",
              "3        SAP S4  ...          1\n",
              "4  KW Australia  ...          1\n",
              "\n",
              "[5 rows x 13 columns]"
            ]
          },
          "metadata": {
            "tags": []
          },
          "execution_count": 54
        }
      ]
    },
    {
      "cell_type": "code",
      "metadata": {
        "id": "dFFKfAISyLlG",
        "colab_type": "code",
        "colab": {}
      },
      "source": [
        "from google.colab import files\n",
        "\n",
        "df.to_excel('supplier_data.xlsx')"
      ],
      "execution_count": 0,
      "outputs": []
    },
    {
      "cell_type": "code",
      "metadata": {
        "id": "UDXp5zaqyb-5",
        "colab_type": "code",
        "colab": {}
      },
      "source": [
        ""
      ],
      "execution_count": 0,
      "outputs": []
    }
  ]
}