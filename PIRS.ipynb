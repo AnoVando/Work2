{
  "nbformat": 4,
  "nbformat_minor": 0,
  "metadata": {
    "colab": {
      "name": "Colab's New Code Editor",
      "provenance": [],
      "collapsed_sections": [],
      "include_colab_link": true
    },
    "kernelspec": {
      "display_name": "Python 3",
      "name": "python3"
    }
  },
  "cells": [
    {
      "cell_type": "markdown",
      "metadata": {
        "id": "view-in-github",
        "colab_type": "text"
      },
      "source": [
        "<a href=\"https://colab.research.google.com/github/AnoVando/Work2/blob/master/PIRS.ipynb\" target=\"_parent\"><img src=\"https://colab.research.google.com/assets/colab-badge.svg\" alt=\"Open In Colab\"/></a>"
      ]
    },
    {
      "cell_type": "markdown",
      "metadata": {
        "colab_type": "text",
        "id": "qTXOGdaz4wy0"
      },
      "source": [
        "# Richer syntax highlighting\n",
        "\n",
        "Improved support for nested languages:\n",
        "\n",
        "```notebook-python\n",
        "df = pd.io.gbq.read_gbq('''\n",
        "  SELECT \n",
        "    REGEXP_EXTRACT(name, '[a-zA-Z]+'),\n",
        "    SUM(number) as count\n",
        "  FROM `bigquery-public-data.usa_names.usa_1910_2013`\n",
        "  WHERE state = 'TX'\n",
        "  GROUP BY name\n",
        "  ORDER BY count DESC\n",
        "  LIMIT 100\n",
        "''')\n",
        "```"
      ]
    },
    {
      "cell_type": "code",
      "metadata": {
        "id": "yYxM3c1lw604",
        "colab_type": "code",
        "colab": {}
      },
      "source": [
        "import pandas as pd\n",
        "import numpy as np\n",
        "import glob\n",
        "import os"
      ],
      "execution_count": 0,
      "outputs": []
    },
    {
      "cell_type": "code",
      "metadata": {
        "id": "K9NHYTdPxLuZ",
        "colab_type": "code",
        "colab": {}
      },
      "source": [
        "# Materials\n",
        "as400 = pd.read_csv(\"https://raw.githubusercontent.com/AnoVando/Work2/master/as400.csv\")\n",
        "as400_2 = pd.read_csv(\"https://raw.githubusercontent.com/AnoVando/Work2/master/as400_2.csv\")\n",
        "cef = pd.read_csv(\"https://raw.githubusercontent.com/AnoVando/Work2/master/cef.csv\")\n",
        "copics = pd.read_csv(\"https://raw.githubusercontent.com/AnoVando/Work2/master/copics.csv\")\n",
        "dyna = pd.read_csv(\"https://raw.githubusercontent.com/AnoVando/Work2/master/dyna.csv\")\n",
        "kwaust = pd.read_csv(\"https://raw.githubusercontent.com/AnoVando/Work2/master/kwaust.csv\")\n",
        "winch = pd.read_csv(\"https://raw.githubusercontent.com/AnoVando/Work2/master/winch.csv\")\n",
        "\n",
        "as400.columns = ['Source', 'Product_ID', 'Description']\n",
        "as400_2.columns = ['Source', 'Product_ID', 'Description']\n",
        "cef.columns = ['Source', 'Product_ID', 'Description']\n",
        "copics.columns = ['Source', 'Product_ID']\n",
        "dyna.columns = ['Source', 'Product_ID', 'Description']\n",
        "kwaust.columns = ['Source', 'Product_ID', 'Description']\n",
        "winch.columns = ['Source', 'Product_ID', 'Description']\n",
        "\n",
        "master_list = pd.concat([as400, as400_2, cef, copics, dyna, kwaust, winch], ignore_index=True, sort=False)\n",
        "master_list.drop(columns='Description', inplace=True)\n",
        "master_list.drop_duplicates(subset=['Source','Product_ID'], inplace=True)"
      ],
      "execution_count": 0,
      "outputs": []
    },
    {
      "cell_type": "code",
      "metadata": {
        "id": "TOqvTXkdfJa-",
        "colab_type": "code",
        "outputId": "a9d8da78-d32f-4775-c7e4-eca83397b333",
        "colab": {
          "base_uri": "https://localhost:8080/",
          "height": 153
        }
      },
      "source": [
        "master_list.groupby([\"Source\"])[\"Product_ID\"].count()"
      ],
      "execution_count": 3,
      "outputs": [
        {
          "output_type": "execute_result",
          "data": {
            "text/plain": [
              "Source\n",
              "AS400     823638\n",
              "copics    209899\n",
              "dyna        9508\n",
              "kwaust     16995\n",
              "pec         1032\n",
              "winch       5301\n",
              "Name: Product_ID, dtype: int64"
            ]
          },
          "metadata": {
            "tags": []
          },
          "execution_count": 3
        }
      ]
    },
    {
      "cell_type": "code",
      "metadata": {
        "id": "DXEpxu7rmP3q",
        "colab_type": "code",
        "colab": {}
      },
      "source": [
        "# PPD Supplier Part Relationship\n",
        "as400_atl = pd.read_csv(\"https://raw.githubusercontent.com/AnoVando/Work2/master/as400_atl.csv\", encoding = 'ISO-8859-1')\n",
        "as400_lan = pd.read_csv(\"https://raw.githubusercontent.com/AnoVando/Work2/master/as400_lan.csv\", encoding = 'ISO-8859-1')\n",
        "as400_new = pd.read_csv(\"https://raw.githubusercontent.com/AnoVando/Work2/master/as400_new.csv\", encoding = 'ISO-8859-1')\n",
        "as400_okc = pd.read_csv(\"https://raw.githubusercontent.com/AnoVando/Work2/master/as400_okc.csv\", encoding = 'ISO-8859-1')\n",
        "as400_pty = pd.read_csv(\"https://raw.githubusercontent.com/AnoVando/Work2/master/as400_pty.csv\", encoding = 'ISO-8859-1')\n",
        "as400_que = pd.read_csv(\"https://raw.githubusercontent.com/AnoVando/Work2/master/as400_que.csv\", encoding = 'ISO-8859-1')\n",
        "as400_roc = pd.read_csv(\"https://raw.githubusercontent.com/AnoVando/Work2/master/as400_roc.csv\", encoding = 'ISO-8859-1')\n",
        "as400_sea = pd.read_csv(\"https://raw.githubusercontent.com/AnoVando/Work2/master/as400_sea.csv\", encoding = 'ISO-8859-1')\n",
        "as400_slp = pd.read_csv(\"https://raw.githubusercontent.com/AnoVando/Work2/master/as400_slp.csv\", encoding = 'ISO-8859-1')\n",
        "as400_tor = pd.read_csv(\"https://raw.githubusercontent.com/AnoVando/Work2/master/as400_tor.csv\", encoding = 'ISO-8859-1')"
      ],
      "execution_count": 0,
      "outputs": []
    },
    {
      "cell_type": "code",
      "metadata": {
        "id": "m_wRLZ8WnRAa",
        "colab_type": "code",
        "colab": {}
      },
      "source": [
        "ppd_contracts_all = pd.concat([as400_atl, as400_lan, as400_new, as400_okc, as400_pty, as400_que, as400_roc, as400_sea,\n",
        "                               as400_slp, as400_tor], ignore_index=True, sort=False)\n",
        "ppd_contracts_all.columns = ['Product_ID', 'Plant', 'Supplier']"
      ],
      "execution_count": 0,
      "outputs": []
    },
    {
      "cell_type": "code",
      "metadata": {
        "id": "pIpiWhiPnq6X",
        "colab_type": "code",
        "colab": {
          "base_uri": "https://localhost:8080/",
          "height": 221
        },
        "outputId": "79cb8b80-870f-4094-fe30-326a3b9c2ea6"
      },
      "source": [
        "ppd_contracts_all.groupby([\"Plant\"])[\"Product_ID\"].count()"
      ],
      "execution_count": 12,
      "outputs": [
        {
          "output_type": "execute_result",
          "data": {
            "text/plain": [
              "Plant\n",
              "CA51    512479\n",
              "CA52    557475\n",
              "MX51    358421\n",
              "PA51    499942\n",
              "US52    575337\n",
              "US53    583747\n",
              "US54    572305\n",
              "US55    593191\n",
              "US56    575572\n",
              "US57    571717\n",
              "Name: Product_ID, dtype: int64"
            ]
          },
          "metadata": {
            "tags": []
          },
          "execution_count": 12
        }
      ]
    },
    {
      "cell_type": "code",
      "metadata": {
        "id": "UAGPQTGwqBW7",
        "colab_type": "code",
        "colab": {
          "base_uri": "https://localhost:8080/",
          "height": 204
        },
        "outputId": "4916de8c-bb56-48f2-d55f-fdca6b802869"
      },
      "source": [
        "as400_materials = pd.concat([as400, as400_2], ignore_index=True, sort=False)\n",
        "as400_materials.drop(columns='Description', inplace=True)\n",
        "as400_materials.drop_duplicates(subset=['Source','Product_ID'], inplace=True)\n",
        "as400_materials.head()"
      ],
      "execution_count": 15,
      "outputs": [
        {
          "output_type": "execute_result",
          "data": {
            "text/html": [
              "<div>\n",
              "<style scoped>\n",
              "    .dataframe tbody tr th:only-of-type {\n",
              "        vertical-align: middle;\n",
              "    }\n",
              "\n",
              "    .dataframe tbody tr th {\n",
              "        vertical-align: top;\n",
              "    }\n",
              "\n",
              "    .dataframe thead th {\n",
              "        text-align: right;\n",
              "    }\n",
              "</style>\n",
              "<table border=\"1\" class=\"dataframe\">\n",
              "  <thead>\n",
              "    <tr style=\"text-align: right;\">\n",
              "      <th></th>\n",
              "      <th>Source</th>\n",
              "      <th>Product_ID</th>\n",
              "    </tr>\n",
              "  </thead>\n",
              "  <tbody>\n",
              "    <tr>\n",
              "      <th>0</th>\n",
              "      <td>AS400</td>\n",
              "      <td>SP1V57-11812</td>\n",
              "    </tr>\n",
              "    <tr>\n",
              "      <th>1</th>\n",
              "      <td>AS400</td>\n",
              "      <td>K028-2344</td>\n",
              "    </tr>\n",
              "    <tr>\n",
              "      <th>2</th>\n",
              "      <td>AS400</td>\n",
              "      <td>P551424</td>\n",
              "    </tr>\n",
              "    <tr>\n",
              "      <th>3</th>\n",
              "      <td>AS400</td>\n",
              "      <td>15-766DSP</td>\n",
              "    </tr>\n",
              "    <tr>\n",
              "      <th>4</th>\n",
              "      <td>AS400</td>\n",
              "      <td>SH8SU6807P11X</td>\n",
              "    </tr>\n",
              "  </tbody>\n",
              "</table>\n",
              "</div>"
            ],
            "text/plain": [
              "  Source     Product_ID\n",
              "0  AS400   SP1V57-11812\n",
              "1  AS400      K028-2344\n",
              "2  AS400        P551424\n",
              "3  AS400      15-766DSP\n",
              "4  AS400  SH8SU6807P11X"
            ]
          },
          "metadata": {
            "tags": []
          },
          "execution_count": 15
        }
      ]
    },
    {
      "cell_type": "code",
      "metadata": {
        "id": "2GGi1tkvqUZL",
        "colab_type": "code",
        "colab": {
          "base_uri": "https://localhost:8080/",
          "height": 204
        },
        "outputId": "569cac6b-9afd-41c1-c7e8-fa918d8e7d26"
      },
      "source": [
        "as400_pirs = as400_materials.merge(ppd_contracts_all, how='left', left_on = ['Product_ID'], right_on= ['Product_ID'])\n",
        "as400_pirs['Supplier'].fillna('No Data', inplace=True)\n",
        "as400_pirs.head()"
      ],
      "execution_count": 17,
      "outputs": [
        {
          "output_type": "execute_result",
          "data": {
            "text/html": [
              "<div>\n",
              "<style scoped>\n",
              "    .dataframe tbody tr th:only-of-type {\n",
              "        vertical-align: middle;\n",
              "    }\n",
              "\n",
              "    .dataframe tbody tr th {\n",
              "        vertical-align: top;\n",
              "    }\n",
              "\n",
              "    .dataframe thead th {\n",
              "        text-align: right;\n",
              "    }\n",
              "</style>\n",
              "<table border=\"1\" class=\"dataframe\">\n",
              "  <thead>\n",
              "    <tr style=\"text-align: right;\">\n",
              "      <th></th>\n",
              "      <th>Source</th>\n",
              "      <th>Product_ID</th>\n",
              "      <th>Plant</th>\n",
              "      <th>Supplier</th>\n",
              "    </tr>\n",
              "  </thead>\n",
              "  <tbody>\n",
              "    <tr>\n",
              "      <th>0</th>\n",
              "      <td>AS400</td>\n",
              "      <td>SP1V57-11812</td>\n",
              "      <td>US56</td>\n",
              "      <td>20495AA</td>\n",
              "    </tr>\n",
              "    <tr>\n",
              "      <th>1</th>\n",
              "      <td>AS400</td>\n",
              "      <td>SP1V57-11812</td>\n",
              "      <td>US54</td>\n",
              "      <td>20495AA</td>\n",
              "    </tr>\n",
              "    <tr>\n",
              "      <th>2</th>\n",
              "      <td>AS400</td>\n",
              "      <td>SP1V57-11812</td>\n",
              "      <td>US55</td>\n",
              "      <td>20495AA</td>\n",
              "    </tr>\n",
              "    <tr>\n",
              "      <th>3</th>\n",
              "      <td>AS400</td>\n",
              "      <td>SP1V57-11812</td>\n",
              "      <td>US57</td>\n",
              "      <td>20495AA</td>\n",
              "    </tr>\n",
              "    <tr>\n",
              "      <th>4</th>\n",
              "      <td>AS400</td>\n",
              "      <td>SP1V57-11812</td>\n",
              "      <td>PA51</td>\n",
              "      <td>20495AA</td>\n",
              "    </tr>\n",
              "  </tbody>\n",
              "</table>\n",
              "</div>"
            ],
            "text/plain": [
              "  Source    Product_ID Plant Supplier\n",
              "0  AS400  SP1V57-11812  US56  20495AA\n",
              "1  AS400  SP1V57-11812  US54  20495AA\n",
              "2  AS400  SP1V57-11812  US55  20495AA\n",
              "3  AS400  SP1V57-11812  US57  20495AA\n",
              "4  AS400  SP1V57-11812  PA51  20495AA"
            ]
          },
          "metadata": {
            "tags": []
          },
          "execution_count": 17
        }
      ]
    },
    {
      "cell_type": "code",
      "metadata": {
        "id": "dvcN8ezXsuFa",
        "colab_type": "code",
        "colab": {
          "base_uri": "https://localhost:8080/",
          "height": 221
        },
        "outputId": "0d6bf3ba-5285-490a-81ea-07ff6dc6a685"
      },
      "source": [
        "as400_pirs.groupby('Plant')['Product_ID'].count()"
      ],
      "execution_count": 22,
      "outputs": [
        {
          "output_type": "execute_result",
          "data": {
            "text/plain": [
              "Plant\n",
              "CA51    388845\n",
              "CA52    402704\n",
              "MX51    264141\n",
              "PA51    373137\n",
              "US52    416228\n",
              "US53    422926\n",
              "US54    413672\n",
              "US55    429899\n",
              "US56    416319\n",
              "US57    413577\n",
              "Name: Product_ID, dtype: int64"
            ]
          },
          "metadata": {
            "tags": []
          },
          "execution_count": 22
        }
      ]
    },
    {
      "cell_type": "code",
      "metadata": {
        "id": "yZxKgG-yz9PV",
        "colab_type": "code",
        "colab": {}
      },
      "source": [
        "# Contracts\n",
        "copics_contracts = pd.read_csv(\"https://raw.githubusercontent.com/AnoVando/Work2/master/contracts.csv\", sep=',')\n",
        "copics_contracts.columns = ['Supplier','Product_ID','Base_Price']\n",
        "copics_contracts['Source'] = 'copics'\n",
        "kwaust_contracts = pd.read_csv(\"https://raw.githubusercontent.com/AnoVando/Work2/master/kwaust_contracts.csv\", sep=',')\n",
        "kwaust_contracts.columns = ['Supplier','Product_ID','Base_Price']\n",
        "kwaust_contracts['Source'] = 'kwaust'\n",
        "\n",
        "contracts_all = pd.concat([copics_contracts, kwaust_contracts], ignore_index=True, sort=False)"
      ],
      "execution_count": 0,
      "outputs": []
    },
    {
      "cell_type": "code",
      "metadata": {
        "id": "e6sVGzRq002o",
        "colab_type": "code",
        "outputId": "82d4d557-31e8-49b2-8b04-419744eb38d2",
        "colab": {
          "base_uri": "https://localhost:8080/",
          "height": 204
        }
      },
      "source": [
        "contracts_all.head()"
      ],
      "execution_count": 0,
      "outputs": [
        {
          "output_type": "execute_result",
          "data": {
            "text/html": [
              "<div>\n",
              "<style scoped>\n",
              "    .dataframe tbody tr th:only-of-type {\n",
              "        vertical-align: middle;\n",
              "    }\n",
              "\n",
              "    .dataframe tbody tr th {\n",
              "        vertical-align: top;\n",
              "    }\n",
              "\n",
              "    .dataframe thead th {\n",
              "        text-align: right;\n",
              "    }\n",
              "</style>\n",
              "<table border=\"1\" class=\"dataframe\">\n",
              "  <thead>\n",
              "    <tr style=\"text-align: right;\">\n",
              "      <th></th>\n",
              "      <th>Supplier</th>\n",
              "      <th>Product_ID</th>\n",
              "      <th>Base_Price</th>\n",
              "      <th>Source</th>\n",
              "    </tr>\n",
              "  </thead>\n",
              "  <tbody>\n",
              "    <tr>\n",
              "      <th>0</th>\n",
              "      <td>05901AA</td>\n",
              "      <td>SA16095000</td>\n",
              "      <td>49.58</td>\n",
              "      <td>copics</td>\n",
              "    </tr>\n",
              "    <tr>\n",
              "      <th>1</th>\n",
              "      <td>05901AA</td>\n",
              "      <td>SA16095001</td>\n",
              "      <td>53.60</td>\n",
              "      <td>copics</td>\n",
              "    </tr>\n",
              "    <tr>\n",
              "      <th>2</th>\n",
              "      <td>05901AA</td>\n",
              "      <td>HP50034204</td>\n",
              "      <td>67.55</td>\n",
              "      <td>copics</td>\n",
              "    </tr>\n",
              "    <tr>\n",
              "      <th>3</th>\n",
              "      <td>05901AA</td>\n",
              "      <td>K113-81</td>\n",
              "      <td>49.35</td>\n",
              "      <td>copics</td>\n",
              "    </tr>\n",
              "    <tr>\n",
              "      <th>4</th>\n",
              "      <td>05901AA</td>\n",
              "      <td>K188-208</td>\n",
              "      <td>115.00</td>\n",
              "      <td>copics</td>\n",
              "    </tr>\n",
              "  </tbody>\n",
              "</table>\n",
              "</div>"
            ],
            "text/plain": [
              "  Supplier  Product_ID  Base_Price  Source\n",
              "0  05901AA  SA16095000       49.58  copics\n",
              "1  05901AA  SA16095001       53.60  copics\n",
              "2  05901AA  HP50034204       67.55  copics\n",
              "3  05901AA     K113-81       49.35  copics\n",
              "4  05901AA    K188-208      115.00  copics"
            ]
          },
          "metadata": {
            "tags": []
          },
          "execution_count": 28
        }
      ]
    },
    {
      "cell_type": "code",
      "metadata": {
        "id": "SIxUgHbllSQ4",
        "colab_type": "code",
        "outputId": "4094cca9-7f8d-42b9-c0a8-7495e5d5a84c",
        "colab": {
          "base_uri": "https://localhost:8080/",
          "height": 297
        }
      },
      "source": [
        "contracts_all.describe()"
      ],
      "execution_count": 0,
      "outputs": [
        {
          "output_type": "execute_result",
          "data": {
            "text/html": [
              "<div>\n",
              "<style scoped>\n",
              "    .dataframe tbody tr th:only-of-type {\n",
              "        vertical-align: middle;\n",
              "    }\n",
              "\n",
              "    .dataframe tbody tr th {\n",
              "        vertical-align: top;\n",
              "    }\n",
              "\n",
              "    .dataframe thead th {\n",
              "        text-align: right;\n",
              "    }\n",
              "</style>\n",
              "<table border=\"1\" class=\"dataframe\">\n",
              "  <thead>\n",
              "    <tr style=\"text-align: right;\">\n",
              "      <th></th>\n",
              "      <th>Base_Price</th>\n",
              "    </tr>\n",
              "  </thead>\n",
              "  <tbody>\n",
              "    <tr>\n",
              "      <th>count</th>\n",
              "      <td>422929.000000</td>\n",
              "    </tr>\n",
              "    <tr>\n",
              "      <th>mean</th>\n",
              "      <td>1376.925845</td>\n",
              "    </tr>\n",
              "    <tr>\n",
              "      <th>std</th>\n",
              "      <td>3816.472284</td>\n",
              "    </tr>\n",
              "    <tr>\n",
              "      <th>min</th>\n",
              "      <td>0.000000</td>\n",
              "    </tr>\n",
              "    <tr>\n",
              "      <th>25%</th>\n",
              "      <td>18.340000</td>\n",
              "    </tr>\n",
              "    <tr>\n",
              "      <th>50%</th>\n",
              "      <td>210.450000</td>\n",
              "    </tr>\n",
              "    <tr>\n",
              "      <th>75%</th>\n",
              "      <td>595.000000</td>\n",
              "    </tr>\n",
              "    <tr>\n",
              "      <th>max</th>\n",
              "      <td>107862.120000</td>\n",
              "    </tr>\n",
              "  </tbody>\n",
              "</table>\n",
              "</div>"
            ],
            "text/plain": [
              "          Base_Price\n",
              "count  422929.000000\n",
              "mean     1376.925845\n",
              "std      3816.472284\n",
              "min         0.000000\n",
              "25%        18.340000\n",
              "50%       210.450000\n",
              "75%       595.000000\n",
              "max    107862.120000"
            ]
          },
          "metadata": {
            "tags": []
          },
          "execution_count": 17
        }
      ]
    },
    {
      "cell_type": "code",
      "metadata": {
        "id": "TLszkPeA15Xh",
        "colab_type": "code",
        "outputId": "a92285fd-bff8-4c03-fba4-dab148efbb0e",
        "colab": {
          "base_uri": "https://localhost:8080/",
          "height": 204
        }
      },
      "source": [
        "results = master_list.merge(contracts_all, how='left', left_on = ['Product_ID', 'Source'], right_on= ['Product_ID', 'Source'])\n",
        "results['Supplier'].fillna('No Data', inplace=True)\n",
        "results['Base_Price'].fillna(0, inplace=True)\n",
        "results.head()"
      ],
      "execution_count": 0,
      "outputs": [
        {
          "output_type": "execute_result",
          "data": {
            "text/html": [
              "<div>\n",
              "<style scoped>\n",
              "    .dataframe tbody tr th:only-of-type {\n",
              "        vertical-align: middle;\n",
              "    }\n",
              "\n",
              "    .dataframe tbody tr th {\n",
              "        vertical-align: top;\n",
              "    }\n",
              "\n",
              "    .dataframe thead th {\n",
              "        text-align: right;\n",
              "    }\n",
              "</style>\n",
              "<table border=\"1\" class=\"dataframe\">\n",
              "  <thead>\n",
              "    <tr style=\"text-align: right;\">\n",
              "      <th></th>\n",
              "      <th>Source</th>\n",
              "      <th>Product_ID</th>\n",
              "      <th>Supplier</th>\n",
              "      <th>Base_Price</th>\n",
              "    </tr>\n",
              "  </thead>\n",
              "  <tbody>\n",
              "    <tr>\n",
              "      <th>0</th>\n",
              "      <td>AS400</td>\n",
              "      <td>SP1V57-11812</td>\n",
              "      <td>No Data</td>\n",
              "      <td>0.0</td>\n",
              "    </tr>\n",
              "    <tr>\n",
              "      <th>1</th>\n",
              "      <td>AS400</td>\n",
              "      <td>K028-2344</td>\n",
              "      <td>No Data</td>\n",
              "      <td>0.0</td>\n",
              "    </tr>\n",
              "    <tr>\n",
              "      <th>2</th>\n",
              "      <td>AS400</td>\n",
              "      <td>P551424</td>\n",
              "      <td>No Data</td>\n",
              "      <td>0.0</td>\n",
              "    </tr>\n",
              "    <tr>\n",
              "      <th>3</th>\n",
              "      <td>AS400</td>\n",
              "      <td>15-766DSP</td>\n",
              "      <td>No Data</td>\n",
              "      <td>0.0</td>\n",
              "    </tr>\n",
              "    <tr>\n",
              "      <th>4</th>\n",
              "      <td>AS400</td>\n",
              "      <td>SH8SU6807P11X</td>\n",
              "      <td>No Data</td>\n",
              "      <td>0.0</td>\n",
              "    </tr>\n",
              "  </tbody>\n",
              "</table>\n",
              "</div>"
            ],
            "text/plain": [
              "  Source     Product_ID Supplier  Base_Price\n",
              "0  AS400   SP1V57-11812  No Data         0.0\n",
              "1  AS400      K028-2344  No Data         0.0\n",
              "2  AS400        P551424  No Data         0.0\n",
              "3  AS400      15-766DSP  No Data         0.0\n",
              "4  AS400  SH8SU6807P11X  No Data         0.0"
            ]
          },
          "metadata": {
            "tags": []
          },
          "execution_count": 36
        }
      ]
    },
    {
      "cell_type": "code",
      "metadata": {
        "id": "XGkLefUC7wvk",
        "colab_type": "code",
        "colab": {}
      },
      "source": [
        "results.drop_duplicates(subset=['Supplier', 'Product_ID'], keep='last', inplace=True)"
      ],
      "execution_count": 0,
      "outputs": []
    },
    {
      "cell_type": "code",
      "metadata": {
        "id": "XrlZhVeb6swT",
        "colab_type": "code",
        "outputId": "84b98361-62e4-4033-b336-f21f69079642",
        "colab": {
          "base_uri": "https://localhost:8080/",
          "height": 153
        }
      },
      "source": [
        "results.groupby([\"Source\"])['Product_ID'].count()"
      ],
      "execution_count": 0,
      "outputs": [
        {
          "output_type": "execute_result",
          "data": {
            "text/plain": [
              "Source\n",
              "AS400     797160\n",
              "copics    233440\n",
              "dyna        9334\n",
              "kwaust     17025\n",
              "pec         1032\n",
              "winch       5301\n",
              "Name: Product_ID, dtype: int64"
            ]
          },
          "metadata": {
            "tags": []
          },
          "execution_count": 38
        }
      ]
    },
    {
      "cell_type": "code",
      "metadata": {
        "id": "KGRAmS1V7Geu",
        "colab_type": "code",
        "colab": {}
      },
      "source": [
        "from google.colab import files\n",
        "\n",
        "results.to_excel('pir_data.xlsx')"
      ],
      "execution_count": 0,
      "outputs": []
    },
    {
      "cell_type": "code",
      "metadata": {
        "id": "vdWo0qWB9Gt_",
        "colab_type": "code",
        "colab": {}
      },
      "source": [
        "as400_full = pd.concat([as400, as400_2], ignore_index=True, sort=False)\n",
        "as400_full.drop_duplicates(subset=['Source','Product_ID'], inplace=True)"
      ],
      "execution_count": 0,
      "outputs": []
    },
    {
      "cell_type": "code",
      "metadata": {
        "id": "eCVyfc0Vqnro",
        "colab_type": "code",
        "colab": {}
      },
      "source": [
        "from google.colab import files\n",
        "\n",
        "as400_full.to_excel('as400_full.xlsx')"
      ],
      "execution_count": 0,
      "outputs": []
    },
    {
      "cell_type": "code",
      "metadata": {
        "id": "XGvU2W90q365",
        "colab_type": "code",
        "colab": {}
      },
      "source": [
        ""
      ],
      "execution_count": 0,
      "outputs": []
    }
  ]
}